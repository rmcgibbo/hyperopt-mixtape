{
 "metadata": {
  "name": "",
  "signature": "sha256:194bf286bb9b53422777ded58bfe203d96b3de018df57e226214868fa23a79d4"
 },
 "nbformat": 3,
 "nbformat_minor": 0,
 "worksheets": [
  {
   "cells": [
    {
     "cell_type": "code",
     "collapsed": false,
     "input": [
      "import sys\n",
      "import json\n",
      "import numpy as np\n",
      "from sklearn.pipeline import Pipeline\n",
      "from sklearn.base import clone\n",
      "%matplotlib inline\n",
      "import matplotlib.pyplot as pp\n",
      "\n",
      "from hpmixtape import trial_to_fninval\n",
      "sys.path.insert(0, '../fs-peptide-tpe/')\n",
      "import experiment\n",
      "\n",
      "def pipeline_from_trial(trial):\n",
      "    spec = trial_to_fninval(trial, experiment.modelspace)\n",
      "    return spec['_factory'](spec)"
     ],
     "language": "python",
     "metadata": {},
     "outputs": [],
     "prompt_number": 2
    },
    {
     "cell_type": "code",
     "collapsed": false,
     "input": [
      "from mixtape.datasets import fetch_fs_peptide\n",
      "\n",
      "def load_trajectories():\n",
      "    dataset = fetch_fs_peptide()\n",
      "    trajectories = dataset['trajectories']\n",
      "    return trajectories\n",
      "\n",
      "trajectories = load_trajectories()"
     ],
     "language": "python",
     "metadata": {},
     "outputs": [
      {
       "output_type": "stream",
       "stream": "stdout",
       "text": [
        "loading trajectory_1.xtc...\n",
        "loading trajectory_10.xtc..."
       ]
      },
      {
       "output_type": "stream",
       "stream": "stdout",
       "text": [
        "\n",
        "loading trajectory_11.xtc..."
       ]
      },
      {
       "output_type": "stream",
       "stream": "stdout",
       "text": [
        "\n",
        "loading trajectory_12.xtc..."
       ]
      },
      {
       "output_type": "stream",
       "stream": "stdout",
       "text": [
        "\n",
        "loading trajectory_13.xtc..."
       ]
      },
      {
       "output_type": "stream",
       "stream": "stdout",
       "text": [
        "\n",
        "loading trajectory_14.xtc..."
       ]
      },
      {
       "output_type": "stream",
       "stream": "stdout",
       "text": [
        "\n",
        "loading trajectory_15.xtc..."
       ]
      },
      {
       "output_type": "stream",
       "stream": "stdout",
       "text": [
        "\n",
        "loading trajectory_16.xtc..."
       ]
      },
      {
       "output_type": "stream",
       "stream": "stdout",
       "text": [
        "\n",
        "loading trajectory_17.xtc..."
       ]
      },
      {
       "output_type": "stream",
       "stream": "stdout",
       "text": [
        "\n",
        "loading trajectory_18.xtc..."
       ]
      },
      {
       "output_type": "stream",
       "stream": "stdout",
       "text": [
        "\n",
        "loading trajectory_19.xtc..."
       ]
      },
      {
       "output_type": "stream",
       "stream": "stdout",
       "text": [
        "\n",
        "loading trajectory_2.xtc..."
       ]
      },
      {
       "output_type": "stream",
       "stream": "stdout",
       "text": [
        "\n",
        "loading trajectory_20.xtc..."
       ]
      },
      {
       "output_type": "stream",
       "stream": "stdout",
       "text": [
        "\n",
        "loading trajectory_21.xtc..."
       ]
      },
      {
       "output_type": "stream",
       "stream": "stdout",
       "text": [
        "\n",
        "loading trajectory_22.xtc..."
       ]
      },
      {
       "output_type": "stream",
       "stream": "stdout",
       "text": [
        "\n",
        "loading trajectory_23.xtc..."
       ]
      },
      {
       "output_type": "stream",
       "stream": "stdout",
       "text": [
        "\n",
        "loading trajectory_24.xtc..."
       ]
      },
      {
       "output_type": "stream",
       "stream": "stdout",
       "text": [
        "\n",
        "loading trajectory_25.xtc..."
       ]
      },
      {
       "output_type": "stream",
       "stream": "stdout",
       "text": [
        "\n",
        "loading trajectory_26.xtc..."
       ]
      },
      {
       "output_type": "stream",
       "stream": "stdout",
       "text": [
        "\n",
        "loading trajectory_27.xtc..."
       ]
      },
      {
       "output_type": "stream",
       "stream": "stdout",
       "text": [
        "\n",
        "loading trajectory_28.xtc..."
       ]
      },
      {
       "output_type": "stream",
       "stream": "stdout",
       "text": [
        "\n",
        "loading trajectory_3.xtc..."
       ]
      },
      {
       "output_type": "stream",
       "stream": "stdout",
       "text": [
        "\n",
        "loading trajectory_4.xtc..."
       ]
      },
      {
       "output_type": "stream",
       "stream": "stdout",
       "text": [
        "\n",
        "loading trajectory_5.xtc..."
       ]
      },
      {
       "output_type": "stream",
       "stream": "stdout",
       "text": [
        "\n",
        "loading trajectory_6.xtc..."
       ]
      },
      {
       "output_type": "stream",
       "stream": "stdout",
       "text": [
        "\n",
        "loading trajectory_7.xtc..."
       ]
      },
      {
       "output_type": "stream",
       "stream": "stdout",
       "text": [
        "\n",
        "loading trajectory_8.xtc..."
       ]
      },
      {
       "output_type": "stream",
       "stream": "stdout",
       "text": [
        "\n",
        "loading trajectory_9.xtc..."
       ]
      },
      {
       "output_type": "stream",
       "stream": "stdout",
       "text": [
        "\n"
       ]
      }
     ],
     "prompt_number": 3
    },
    {
     "cell_type": "code",
     "collapsed": false,
     "input": [
      "# from pprint import pprint\n",
      "# trials = json.load(open('../fs-peptide-tpe/results-827f31e.json'))\n",
      "# trials = sorted(trials, key=lambda x: x['result'].get('loss', 0))\n",
      "# pprint([t['result'].get('parameters', None) for t in trials][:5])"
     ],
     "language": "python",
     "metadata": {},
     "outputs": [],
     "prompt_number": 17
    },
    {
     "cell_type": "code",
     "collapsed": false,
     "input": [
      "p = pipeline_from_trial(trials[0])\n",
      "p.fit(trajectories)\n",
      "all_tics = clone(Pipeline(p.steps[0:2])).fit_transform(trajectories)\n",
      "tics = np.concatenate(all_tics)\n",
      "print p"
     ],
     "language": "python",
     "metadata": {},
     "outputs": [
      {
       "output_type": "stream",
       "stream": "stdout",
       "text": [
        "Pipeline(steps=[('DihedralFeaturizer', DihedralFeaturizer(sincos=True, types=('phi', 'psi', 'chi1', 'chi2'))), ('tICA', tICA(gamma=0, lag_time=1, n_components=2, weighted_transform=True)), ('MiniBatchKMeans', MiniBatchKMeans(batch_size=10000, compute_labels=True, init='k-means++',\n",
        "        init_size=None, max..., lag_time=1, n_timescales=3, prior_counts=0,\n",
        "         reversible_type='transpose', verbose=False))])\n"
       ]
      }
     ],
     "prompt_number": 5
    },
    {
     "cell_type": "code",
     "collapsed": false,
     "input": [
      "pp.hexbin(tics[:,0], tics[:,1], cmap='hot_r', bins='log')\n",
      "pp.colorbar()\n",
      "centers = p.named_steps['MiniBatchKMeans'].cluster_centers_\n",
      "sizes = p.named_steps['MarkovStateModel'].populations_ * 1e5\n",
      "pp.scatter(centers[:, 0], centers[:, 1], c='none', s=sizes, alpha=0.3)\n",
      "all_tics = np.array(all_tics)\n",
      "pp.scatter(all_tics[:, 0, 0], all_tics[:, 0, 1], c='k')\n",
      "pp.xlabel('tIC 1', fontsize=18)\n",
      "pp.ylabel('tIC 2', fontsize=18)\n",
      "pp.xlim(-400, 1100)\n",
      "pp.ylim(-400, 600)\n",
      "fig = pp.gcf()\n",
      "# pp.savefig('/home/rmcgibbo/projects/papers/optimal-msms-presentation/pres/figures/best-fs-model-tics.png')"
     ],
     "language": "python",
     "metadata": {},
     "outputs": [
      {
       "metadata": {},
       "output_type": "display_data",
       "png": "[encoded data removed]",
       "text": [
        "<matplotlib.figure.Figure at 0x7fa33dc6c950>"
       ]
      }
     ],
     "prompt_number": 19
    },
    {
     "cell_type": "code",
     "collapsed": false,
     "input": [
      "from mdtraj.html import enable_notebook\n",
      "enable_notebook()"
     ],
     "language": "python",
     "metadata": {},
     "outputs": [
      {
       "javascript": [
        "$(\"head\").append($(\"<link/>\").attr({\n",
        "  rel:  \"stylesheet\",\n",
        "  type: \"text/css\",\n",
        "  href: \"//lab.jakiestfu.com/contextjs/context.standalone.css\"\n",
        "}));\n",
        "\n",
        "require.config({\n",
        "    paths: {\n",
        "        'three': '//cdnjs.cloudflare.com/ajax/libs/three.js/r68/three.min',\n",
        "        'iview' : '/nbextensions/iview',\n",
        "        'surface' : '/nbextensions/surface.min',\n",
        "        'exporter' : '/nbextensions/objexporter',\n",
        "        'filesaver' : '/nbextensions/filesaver',\n",
        "        'jqueryui': '//ajax.googleapis.com/ajax/libs/jqueryui/1.11.1/jquery-ui.min',\n",
        "        'contextmenu': '/nbextensions/context',\n",
        "    },\n",
        "    shim: {\n",
        "        three: {\n",
        "            exports: 'THREE'\n",
        "        },\n",
        "        iview: {\n",
        "            deps: ['three', 'surface'],\n",
        "            exports: 'iview'\n",
        "        },\n",
        "        surface: {\n",
        "            exports: 'ProteinSurface'\n",
        "        },\n",
        "        exporter: {\n",
        "            deps: ['three'],\n",
        "            exports: 'THREE.OBJExporter'\n",
        "        },\n",
        "        jqueryui: {\n",
        "            exports: \"$\"\n",
        "        },\n",
        "    },\n",
        "});\n"
       ],
       "metadata": {},
       "output_type": "display_data",
       "text": [
        "<IPython.core.display.Javascript at 0x7fa33f8e7750>"
       ]
      },
      {
       "javascript": [
        "/*\n",
        "This script creates and registers the TrajectoryView widget on the\n",
        "browser side. Basically, it's a small div, with the iview molecule viewer (WebGL-based\n",
        "protein visualization) hooked in. Changes to the class on the python side\n",
        "propagate here and modify `this.model.attributes`, and re-call `update`.\n",
        "*/\n",
        "\n",
        "require([\n",
        "    \"jquery\",\n",
        "    \"widgets/js/widget\",\n",
        "    \"iview\",\n",
        "    \"exporter\",\n",
        "    \"filesaver\",\n",
        "    \"contextmenu\",\n",
        "    // only loaded, not used\n",
        "    'jqueryui',\n",
        "    ],\n",
        "\n",
        "function($, WidgetManager, iview) {\n",
        "    var HEIGHT = 300,\n",
        "        WIDTH = 300,\n",
        "        HEIGHT_PX = '300px',\n",
        "        WIDTH_PX = '300px';\n",
        "\n",
        "    var TrajectoryView = IPython.DOMWidgetView.extend({\n",
        "        render : function() {\n",
        "            var canvas = $(\"<canvas/>\").height(HEIGHT).width(WIDTH);\n",
        "            var iv = new iview(canvas);\n",
        "            var container = $('<div/>').css({width: HEIGHT_PX, height: WIDTH_PX})\n",
        "                .resizable({\n",
        "                    aspectRatio: 1,\n",
        "                    resize: function(event, ui) {\n",
        "                        iv.renderer.setSize(ui.size.width, ui.size.height);\n",
        "                    },\n",
        "\t\t    stop : function(event, ui) {\n",
        "\t\t\tiv.render()\n",
        "\t\t    },\n",
        "                });\n",
        "            container.append(canvas);\n",
        "            this.setElement(container);\n",
        "            this.iv = iv;\n",
        "            this.setupContextMenu(iv);\n",
        "            this.setupFullScreen(canvas, container);\n",
        "            this.update();\n",
        "            var options = this.getOptions() \n",
        "            this.iv.zoomInto(options);\n",
        "\n",
        "\n",
        "            // debugging\n",
        "            window.iv = this.iv;\n",
        "            window.model = this.model;\n",
        "        },\n",
        "\n",
        "        update : function () {\n",
        "            /* This could definitely be done more efficiently. Right now we're\n",
        "            just recreating and redrawing everything. For the (presumably)\n",
        "            common use case where you just want to update the positions to the\n",
        "            next frame in a trajectory, there's no real need to redefine the\n",
        "            topology and representation.\n",
        "            */\n",
        "\n",
        "            console.log('TrajectoryView.update');\n",
        "\n",
        "            this.iv.loadTopology(this.model.attributes._topology);\n",
        "            this.iv.loadCoordinates(this.model.attributes._frameData.coordinates);\n",
        "            this.iv.loadAtomAttributes(this.model.attributes._frameData.secondaryStructure);\n",
        "           \n",
        "            var options = this.getOptions() \n",
        "            this.iv.rebuildScene(options)\n",
        "            this.iv.render()\n",
        "\n",
        "            return TrajectoryView.__super__.update.apply(this);\n",
        "        },\n",
        "        \n",
        "        setupContextMenu : function(iv) {\n",
        "            context.init({preventDoubleContext: true});\n",
        "            var menu = [{header: 'Export as...'},\n",
        "                    {text: 'PNG',\n",
        "                    action: function () {\n",
        "                        var dataURL = iv.renderer.domElement.toDataURL('image/png');\n",
        "                        var data = atob( dataURL.substring( \"data:image/png;base64,\".length ) ),\n",
        "                                asArray = new Uint8Array(data.length);\n",
        "                        for( var i = 0, len = data.length; i < len; ++i ) {\n",
        "                                asArray[i] = data.charCodeAt(i);    \n",
        "                        }\n",
        "                        var blob = new Blob( [ asArray.buffer ], {type: \"image/png\"} );\n",
        "                        saveAs(blob,\"mol.png\")\n",
        "                    }\n",
        "                }, { \n",
        "                    text: 'OBJ',\n",
        "                    action: function () {\n",
        "                       var obj = '';\n",
        "                       var exporter = new THREE.OBJExporter();\n",
        "                       iv.mdl.children.forEach( function (object) {\n",
        "                           obj = obj + String(exporter.parse(object.geometry));\n",
        "                       });\n",
        "                       var blob = new Blob([obj], { type : \"text/obj;charset=utf-8\"});\n",
        "                       saveAs(blob, \"mol.obj\");\n",
        "                    }\n",
        "                }];\n",
        "            context.attach('canvas',menu)\n",
        "            \n",
        "        },\n",
        "\n",
        "        getOptions : function() {\n",
        "\n",
        "             var options = {\n",
        "                'camera': this.model.attributes.camera,\n",
        "                'background': this.model.attributes.background,\n",
        "                'colorBy': this.model.attributes.colorBy,\n",
        "                'primaryStructure': this.model.attributes.primaryStructure,\n",
        "                'secondaryStructure': this.model.attributes.secondaryStructure,\n",
        "                'surface': this.model.attributes.surfaceRepresentation\n",
        "             };\n",
        "        \n",
        "             return options\n",
        "        },\n",
        "\n",
        "        setupFullScreen : function(canvas, container) {\n",
        "            // currently only works in chrome. need other prefixes for firefox\n",
        "            var iv = this.iv;\n",
        "            canvas.dblclick(function () {\n",
        "            \tif ('webkitCancelFullScreen' in document) {\n",
        "                    if (!document.webkitIsFullScreen) {\n",
        "\t\t\tvar minHW = Math.min(screen.width, screen.height);\n",
        "                \tcanvas[0].webkitRequestFullScreen();\n",
        "                        iv.renderer.setSize(minHW, minHW);\n",
        "                        iv.render();\n",
        "                    }\n",
        "                } else if ('mozCancelFullScreen' in document) {\n",
        "                    if (!document.mozIsFullScreen) {\n",
        "                        var minHW = Math.min(screen.width, screen.height);\n",
        "                \tcanvas[0].mozRequestFullScreen();\n",
        "                        iv.renderer.setSize(minHW, minHW);\n",
        "                        iv.render();\n",
        "                    }\n",
        "\t\t}\n",
        "            });\n",
        "\n",
        "            if ('webkitCancelFullScreen' in document) {\n",
        "\t\tdocument.addEventListener(\"webkitfullscreenchange\", function() {\n",
        "                    if (!document.webkitIsFullScreen) {\n",
        "\t\t\tcontainer.css({width: HEIGHT_PX, height: WIDTH_PX});\n",
        "\t\t\tiv.renderer.setSize(WIDTH, HEIGHT);\n",
        "\t\t\tiv.render();\n",
        "                    }\n",
        "\t\t});\n",
        "\t    } else if ('mozCancelFullScreen' in document) {\n",
        "\t\tdocument.addEventListener(\"mozfullscreenchange\", function() {\n",
        "                    if (!document.mozIsFullScreen) {\n",
        "\t\t\tiv.renderer.setSize(WIDTH, HEIGHT);\n",
        "\t\t\tcontainer.css({width: HEIGHT_PX, height: WIDTH_PX});\n",
        "\t\t\tiv.render();\n",
        "\n",
        "                    }\n",
        "\t\t});\n",
        "\t    }\n",
        "        },\n",
        "    });\n",
        "\n",
        "\n",
        "    WidgetManager.register_widget_view('TrajectoryView', TrajectoryView);\n",
        "});\n"
       ],
       "metadata": {},
       "output_type": "display_data",
       "text": [
        "<IPython.core.display.Javascript at 0x7fa33dcdca50>"
       ]
      },
      {
       "javascript": [
        "require([\"widgets/js/widget\"], function(WidgetManager){\n",
        "    var ImageButtonView = IPython.DOMWidgetView.extend({\n",
        "        render : function(){\n",
        "            // Called when view is rendered.\n",
        "            this.setElement($(\"<img />\"));\n",
        "            this.update(); // Set defaults.\n",
        "        },\n",
        "\n",
        "        update : function(){\n",
        "            // Update the contents of this view\n",
        "            //\n",
        "            // Called when the model is changed.  The model may have been \n",
        "            // changed by another view or by a state update from the back-end.\n",
        "            var image_src = 'data:image/' + this.model.get('format') + ';base64,' + this.model.get('_b64value');\n",
        "            console.log(this.model);\n",
        "            this.$el.attr('src', image_src);\n",
        "\n",
        "            var width = this.model.get('width');\n",
        "            if (width !== undefined && width.length > 0) {\n",
        "                this.$el.attr('width', width);\n",
        "            } else {\n",
        "                this.$el.removeAttr('width');\n",
        "            }\n",
        "            \n",
        "            var height = this.model.get('height');\n",
        "            if (height !== undefined && height.length > 0) {\n",
        "                this.$el.attr('height', height);\n",
        "            } else {\n",
        "                this.$el.removeAttr('height');\n",
        "            }\n",
        "            return ImageButtonView.__super__.update.apply(this);\n",
        "        },\n",
        "\n",
        "        events: {\n",
        "            // Dictionary of events and their handlers.\n",
        "            'click': '_handle_click',\n",
        "        },\n",
        "        \n",
        "        _handle_click: function(ev) {\n",
        "            // Handles when the button is clicked.\n",
        "            console.log(this.$el.offset());\n",
        "            var top = this.$el.offset().top;\n",
        "            var left = this.$el.offset().left;\n",
        "            var xAspect = this.$el.width() / this.$el[0].naturalWidth;\n",
        "            var yAspect = this.$el.height() / this.$el[0].naturalHeight;\n",
        "\n",
        "            \n",
        "            var x = (ev.pageX - left) / xAspect;\n",
        "            var y = (this.$el.height() - (ev.pageY - top)) / yAspect;\n",
        "            this.send({event: 'click', 'mouseX': x, 'mouseY': y});\n",
        "        },\n",
        "    });\n",
        "\n",
        "    // Register the DatePickerView with the widget manager.\n",
        "    WidgetManager.register_widget_view('ImageButtonView', ImageButtonView);\n",
        "});"
       ],
       "metadata": {},
       "output_type": "display_data",
       "text": [
        "<IPython.core.display.Javascript at 0x7fa3401880d0>"
       ]
      }
     ],
     "prompt_number": 14
    },
    {
     "cell_type": "code",
     "collapsed": false,
     "input": [
      "from mdtraj.html import TrajectoryHeatmap\n",
      "t = trajectories[0].join(trajectories[1:])\n",
      "t.center_coordinates()\n",
      "t.superpose(t[0])"
     ],
     "language": "python",
     "metadata": {},
     "outputs": [
      {
       "metadata": {},
       "output_type": "pyout",
       "prompt_number": 15,
       "text": [
        "<mdtraj.Trajectory with 280000 frames, 264 atoms, 23 residues, without unitcells at 0x7fa33dc4b790>"
       ]
      }
     ],
     "prompt_number": 15
    },
    {
     "cell_type": "code",
     "collapsed": false,
     "input": [
      "TrajectoryHeatmap(t, x=tics[:,0], y=tics[:, 1], fig=fig,\n",
      "                  primaryStructure='lines')"
     ],
     "language": "python",
     "metadata": {},
     "outputs": [
      {
       "output_type": "stream",
       "stream": "stdout",
       "text": [
        "(-247.05771169354836, -107.1572580645161, 163915)\n"
       ]
      },
      {
       "output_type": "stream",
       "stream": "stdout",
       "text": [
        "(-257.13835685483872, -123.28629032258061, 117340)\n"
       ]
      },
      {
       "output_type": "stream",
       "stream": "stdout",
       "text": [
        "(-236.97706653225805, -155.54435483870964, 174976)\n"
       ]
      },
      {
       "output_type": "stream",
       "stream": "stdout",
       "text": [
        "(-236.97706653225805, -107.1572580645161, 62520)\n"
       ]
      },
      {
       "output_type": "stream",
       "stream": "stdout",
       "text": [
        "(927.33744959677426, 288.00403225806451, 157355)\n"
       ]
      },
      {
       "output_type": "stream",
       "stream": "stdout",
       "text": [
        "(866.85357862903231, 267.8427419354839, 154773)\n"
       ]
      },
      {
       "output_type": "stream",
       "stream": "stdout",
       "text": [
        "(806.36970766129036, 275.90725806451621, 159845)\n"
       ]
      },
      {
       "output_type": "stream",
       "stream": "stdout",
       "text": [
        "(806.36970766129036, 219.45564516129036, 153043)\n"
       ]
      },
      {
       "output_type": "stream",
       "stream": "stdout",
       "text": [
        "(821.49067540322574, 215.42338709677426, 159459)\n"
       ]
      },
      {
       "output_type": "stream",
       "stream": "stdout",
       "text": [
        "(-186.57384072580646, 239.61693548387098, 189064)\n"
       ]
      },
      {
       "output_type": "stream",
       "stream": "stdout",
       "text": [
        "(-216.81577620967738, 247.68145161290329, 172432)\n"
       ]
      },
      {
       "output_type": "stream",
       "stream": "stdout",
       "text": [
        "(-181.53351814516122, 227.52016129032256, 184668)\n"
       ]
      },
      {
       "output_type": "stream",
       "stream": "stdout",
       "text": [
        "(-181.53351814516122, 195.26209677419354, 131067)\n"
       ]
      },
      {
       "output_type": "stream",
       "stream": "stdout",
       "text": [
        "(-176.4931955645161, 219.45564516129036, 134408)\n"
       ]
      },
      {
       "output_type": "stream",
       "stream": "stdout",
       "text": [
        "(-201.69480846774189, -115.22177419354836, 222912)\n"
       ]
      },
      {
       "output_type": "stream",
       "stream": "stdout",
       "text": [
        "(-166.41255040322574, -143.44758064516128, 266068)\n"
       ]
      },
      {
       "output_type": "stream",
       "stream": "stdout",
       "text": [
        "(-236.97706653225805, -50.705645161290306, 191573)\n"
       ]
      },
      {
       "output_type": "stream",
       "stream": "stdout",
       "text": [
        "(-242.01738911290323, -131.35080645161287, 174863)\n"
       ]
      },
      {
       "output_type": "stream",
       "stream": "stdout",
       "text": [
        "(-292.42061491935482, -95.060483870967687, 12908)\n"
       ]
      },
      {
       "output_type": "stream",
       "stream": "stdout",
       "text": [
        "(-297.4609375, -111.1895161290322, 226730)\n"
       ]
      },
      {
       "output_type": "stream",
       "stream": "stdout",
       "text": [
        "(-342.82384072580641, -111.1895161290322, 33623)\n"
       ]
      },
      {
       "output_type": "stream",
       "stream": "stdout",
       "text": [
        "(-171.45287298387098, -179.73790322580641, 51729)\n"
       ]
      },
      {
       "output_type": "stream",
       "stream": "stdout",
       "text": [
        "(367.86164314516134, -264.41532258064512, 254130)\n"
       ]
      },
      {
       "output_type": "stream",
       "stream": "stdout",
       "text": [
        "(256.97454637096769, -288.60887096774189, 240068)\n"
       ]
      },
      {
       "output_type": "stream",
       "stream": "stdout",
       "text": [
        "(216.65196572580646, -284.57661290322579, 252243)\n"
       ]
      },
      {
       "output_type": "stream",
       "stream": "stdout",
       "text": [
        "(191.45035282258061, -256.35080645161287, 252894)\n"
       ]
      },
      {
       "output_type": "stream",
       "stream": "stdout",
       "text": [
        "(75.52293346774195, -171.67338709677415, 211398)\n"
       ]
      }
     ],
     "prompt_number": 20
    },
    {
     "cell_type": "code",
     "collapsed": false,
     "input": [],
     "language": "python",
     "metadata": {},
     "outputs": []
    }
   ],
   "metadata": {}
  }
 ]
}