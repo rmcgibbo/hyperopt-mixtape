{
 "metadata": {
  "name": "",
  "signature": "sha256:df4b40a0e3183f5b4cdffe2917056e383e1a92ec75fd721f2734a51c3abf6206"
 },
 "nbformat": 3,
 "nbformat_minor": 0,
 "worksheets": [
  {
   "cells": [
    {
     "cell_type": "code",
     "collapsed": false,
     "input": [
      "import sys\n",
      "import json\n",
      "import numpy as np\n",
      "from sklearn.pipeline import Pipeline\n",
      "from sklearn.base import clone\n",
      "%matplotlib inline\n",
      "import matplotlib.pyplot as pp\n",
      "\n",
      "from hpmixtape import trial_to_fninval\n",
      "sys.path.insert(0, '../fs-peptide-tpe/')\n",
      "import experiment\n",
      "\n",
      "def pipeline_from_trial(trial):\n",
      "    spec = trial_to_fninval(trial, experiment.modelspace)\n",
      "    return spec['_factory'](spec)"
     ],
     "language": "python",
     "metadata": {},
     "outputs": [],
     "prompt_number": 1
    },
    {
     "cell_type": "code",
     "collapsed": false,
     "input": [
      "from mixtape.datasets import fetch_fs_peptide\n",
      "\n",
      "def load_trajectories():\n",
      "    dataset = fetch_fs_peptide()\n",
      "    trajectories = dataset['trajectories']\n",
      "    return trajectories\n",
      "\n",
      "trajectories = load_trajectories()"
     ],
     "language": "python",
     "metadata": {},
     "outputs": [
      {
       "output_type": "stream",
       "stream": "stdout",
       "text": [
        "loading trajectory_1.xtc...\n",
        "loading trajectory_10.xtc..."
       ]
      },
      {
       "output_type": "stream",
       "stream": "stdout",
       "text": [
        "\n",
        "loading trajectory_11.xtc..."
       ]
      },
      {
       "output_type": "stream",
       "stream": "stdout",
       "text": [
        "\n",
        "loading trajectory_12.xtc..."
       ]
      },
      {
       "output_type": "stream",
       "stream": "stdout",
       "text": [
        "\n",
        "loading trajectory_13.xtc..."
       ]
      },
      {
       "output_type": "stream",
       "stream": "stdout",
       "text": [
        "\n",
        "loading trajectory_14.xtc..."
       ]
      },
      {
       "output_type": "stream",
       "stream": "stdout",
       "text": [
        "\n",
        "loading trajectory_15.xtc..."
       ]
      },
      {
       "output_type": "stream",
       "stream": "stdout",
       "text": [
        "\n",
        "loading trajectory_16.xtc..."
       ]
      },
      {
       "output_type": "stream",
       "stream": "stdout",
       "text": [
        "\n",
        "loading trajectory_17.xtc..."
       ]
      },
      {
       "output_type": "stream",
       "stream": "stdout",
       "text": [
        "\n",
        "loading trajectory_18.xtc..."
       ]
      },
      {
       "output_type": "stream",
       "stream": "stdout",
       "text": [
        "\n",
        "loading trajectory_19.xtc..."
       ]
      },
      {
       "output_type": "stream",
       "stream": "stdout",
       "text": [
        "\n",
        "loading trajectory_2.xtc..."
       ]
      },
      {
       "output_type": "stream",
       "stream": "stdout",
       "text": [
        "\n",
        "loading trajectory_20.xtc..."
       ]
      },
      {
       "output_type": "stream",
       "stream": "stdout",
       "text": [
        "\n",
        "loading trajectory_21.xtc..."
       ]
      },
      {
       "output_type": "stream",
       "stream": "stdout",
       "text": [
        "\n",
        "loading trajectory_22.xtc..."
       ]
      },
      {
       "output_type": "stream",
       "stream": "stdout",
       "text": [
        "\n",
        "loading trajectory_23.xtc..."
       ]
      },
      {
       "output_type": "stream",
       "stream": "stdout",
       "text": [
        "\n",
        "loading trajectory_24.xtc..."
       ]
      },
      {
       "output_type": "stream",
       "stream": "stdout",
       "text": [
        "\n",
        "loading trajectory_25.xtc..."
       ]
      },
      {
       "output_type": "stream",
       "stream": "stdout",
       "text": [
        "\n",
        "loading trajectory_26.xtc..."
       ]
      },
      {
       "output_type": "stream",
       "stream": "stdout",
       "text": [
        "\n",
        "loading trajectory_27.xtc..."
       ]
      },
      {
       "output_type": "stream",
       "stream": "stdout",
       "text": [
        "\n",
        "loading trajectory_28.xtc..."
       ]
      },
      {
       "output_type": "stream",
       "stream": "stdout",
       "text": [
        "\n",
        "loading trajectory_3.xtc..."
       ]
      },
      {
       "output_type": "stream",
       "stream": "stdout",
       "text": [
        "\n",
        "loading trajectory_4.xtc..."
       ]
      },
      {
       "output_type": "stream",
       "stream": "stdout",
       "text": [
        "\n",
        "loading trajectory_5.xtc..."
       ]
      },
      {
       "output_type": "stream",
       "stream": "stdout",
       "text": [
        "\n",
        "loading trajectory_6.xtc..."
       ]
      },
      {
       "output_type": "stream",
       "stream": "stdout",
       "text": [
        "\n",
        "loading trajectory_7.xtc..."
       ]
      },
      {
       "output_type": "stream",
       "stream": "stdout",
       "text": [
        "\n",
        "loading trajectory_8.xtc..."
       ]
      },
      {
       "output_type": "stream",
       "stream": "stdout",
       "text": [
        "\n",
        "loading trajectory_9.xtc..."
       ]
      },
      {
       "output_type": "stream",
       "stream": "stdout",
       "text": [
        "\n"
       ]
      }
     ],
     "prompt_number": 3
    },
    {
     "cell_type": "code",
     "collapsed": false,
     "input": [
      "from pprint import pprint\n",
      "trials = json.load(open('../fs-peptide-tpe/results-827f31e.json'))\n",
      "trials = sorted(trials, key=lambda x: x['result'].get('loss', 0))\n",
      "pprint([t['result'].get('parameters', None) for t in trials][:5])"
     ],
     "language": "python",
     "metadata": {},
     "outputs": [
      {
       "output_type": "stream",
       "stream": "stdout",
       "text": [
        "[{u'DihedralFeaturizer__sincos': True,\n",
        "  u'DihedralFeaturizer__types': [u'phi', u'psi', u'chi1', u'chi2'],\n",
        "  u'MarkovStateModel__ergodic_cutoff': 1,\n",
        "  u'MarkovStateModel__lag_time': 1,\n",
        "  u'MarkovStateModel__n_timescales': 3,\n",
        "  u'MarkovStateModel__prior_counts': 0,\n",
        "  u'MarkovStateModel__reversible_type': u'transpose',\n",
        "  u'MarkovStateModel__verbose': False,\n",
        "  u'MiniBatchKMeans__batch_size': 10000,\n",
        "  u'MiniBatchKMeans__compute_labels': True,\n",
        "  u'MiniBatchKMeans__init': u'k-means++',\n",
        "  u'MiniBatchKMeans__init_size': None,\n",
        "  u'MiniBatchKMeans__max_iter': 100,\n",
        "  u'MiniBatchKMeans__max_no_improvement': 10,\n",
        "  u'MiniBatchKMeans__n_clusters': 480,\n",
        "  u'MiniBatchKMeans__n_init': 1,\n",
        "  u'MiniBatchKMeans__random_state': None,\n",
        "  u'MiniBatchKMeans__reassignment_ratio': 0.01,\n",
        "  u'MiniBatchKMeans__tol': 0.0,\n",
        "  u'MiniBatchKMeans__verbose': 0,\n",
        "  u'tICA__gamma': 0,\n",
        "  u'tICA__lag_time': 1,\n",
        "  u'tICA__n_components': 2,\n",
        "  u'tICA__weighted_transform': True},\n",
        " {u'DihedralFeaturizer__sincos': True,\n",
        "  u'DihedralFeaturizer__types': [u'phi', u'psi', u'chi1', u'chi2'],\n",
        "  u'MarkovStateModel__ergodic_cutoff': 1,\n",
        "  u'MarkovStateModel__lag_time': 1,\n",
        "  u'MarkovStateModel__n_timescales': 3,\n",
        "  u'MarkovStateModel__prior_counts': 0,\n",
        "  u'MarkovStateModel__reversible_type': u'transpose',\n",
        "  u'MarkovStateModel__verbose': False,\n",
        "  u'MiniBatchKMeans__batch_size': 10000,\n",
        "  u'MiniBatchKMeans__compute_labels': True,\n",
        "  u'MiniBatchKMeans__init': u'k-means++',\n",
        "  u'MiniBatchKMeans__init_size': None,\n",
        "  u'MiniBatchKMeans__max_iter': 100,\n",
        "  u'MiniBatchKMeans__max_no_improvement': 10,\n",
        "  u'MiniBatchKMeans__n_clusters': 500,\n",
        "  u'MiniBatchKMeans__n_init': 1,\n",
        "  u'MiniBatchKMeans__random_state': None,\n",
        "  u'MiniBatchKMeans__reassignment_ratio': 0.01,\n",
        "  u'MiniBatchKMeans__tol': 0.0,\n",
        "  u'MiniBatchKMeans__verbose': 0,\n",
        "  u'tICA__gamma': 0,\n",
        "  u'tICA__lag_time': 1,\n",
        "  u'tICA__n_components': 2,\n",
        "  u'tICA__weighted_transform': True},\n",
        " {u'DihedralFeaturizer__sincos': True,\n",
        "  u'DihedralFeaturizer__types': [u'phi', u'psi', u'chi1'],\n",
        "  u'MarkovStateModel__ergodic_cutoff': 1,\n",
        "  u'MarkovStateModel__lag_time': 1,\n",
        "  u'MarkovStateModel__n_timescales': 3,\n",
        "  u'MarkovStateModel__prior_counts': 0,\n",
        "  u'MarkovStateModel__reversible_type': u'transpose',\n",
        "  u'MarkovStateModel__verbose': False,\n",
        "  u'MiniBatchKMeans__batch_size': 10000,\n",
        "  u'MiniBatchKMeans__compute_labels': True,\n",
        "  u'MiniBatchKMeans__init': u'k-means++',\n",
        "  u'MiniBatchKMeans__init_size': None,\n",
        "  u'MiniBatchKMeans__max_iter': 100,\n",
        "  u'MiniBatchKMeans__max_no_improvement': 10,\n",
        "  u'MiniBatchKMeans__n_clusters': 490,\n",
        "  u'MiniBatchKMeans__n_init': 1,\n",
        "  u'MiniBatchKMeans__random_state': None,\n",
        "  u'MiniBatchKMeans__reassignment_ratio': 0.01,\n",
        "  u'MiniBatchKMeans__tol': 0.0,\n",
        "  u'MiniBatchKMeans__verbose': 0,\n",
        "  u'tICA__gamma': 0,\n",
        "  u'tICA__lag_time': 1,\n",
        "  u'tICA__n_components': 2,\n",
        "  u'tICA__weighted_transform': True},\n",
        " {u'DihedralFeaturizer__sincos': True,\n",
        "  u'DihedralFeaturizer__types': [u'phi', u'psi', u'chi1'],\n",
        "  u'MarkovStateModel__ergodic_cutoff': 1,\n",
        "  u'MarkovStateModel__lag_time': 1,\n",
        "  u'MarkovStateModel__n_timescales': 3,\n",
        "  u'MarkovStateModel__prior_counts': 0,\n",
        "  u'MarkovStateModel__reversible_type': u'transpose',\n",
        "  u'MarkovStateModel__verbose': False,\n",
        "  u'MiniBatchKMeans__batch_size': 10000,\n",
        "  u'MiniBatchKMeans__compute_labels': True,\n",
        "  u'MiniBatchKMeans__init': u'k-means++',\n",
        "  u'MiniBatchKMeans__init_size': None,\n",
        "  u'MiniBatchKMeans__max_iter': 100,\n",
        "  u'MiniBatchKMeans__max_no_improvement': 10,\n",
        "  u'MiniBatchKMeans__n_clusters': 470,\n",
        "  u'MiniBatchKMeans__n_init': 1,\n",
        "  u'MiniBatchKMeans__random_state': None,\n",
        "  u'MiniBatchKMeans__reassignment_ratio': 0.01,\n",
        "  u'MiniBatchKMeans__tol': 0.0,\n",
        "  u'MiniBatchKMeans__verbose': 0,\n",
        "  u'tICA__gamma': 0,\n",
        "  u'tICA__lag_time': 1,\n",
        "  u'tICA__n_components': 2,\n",
        "  u'tICA__weighted_transform': True},\n",
        " {u'DihedralFeaturizer__sincos': True,\n",
        "  u'DihedralFeaturizer__types': [u'phi', u'psi', u'chi1'],\n",
        "  u'MarkovStateModel__ergodic_cutoff': 1,\n",
        "  u'MarkovStateModel__lag_time': 1,\n",
        "  u'MarkovStateModel__n_timescales': 3,\n",
        "  u'MarkovStateModel__prior_counts': 0,\n",
        "  u'MarkovStateModel__reversible_type': u'transpose',\n",
        "  u'MarkovStateModel__verbose': False,\n",
        "  u'MiniBatchKMeans__batch_size': 10000,\n",
        "  u'MiniBatchKMeans__compute_labels': True,\n",
        "  u'MiniBatchKMeans__init': u'k-means++',\n",
        "  u'MiniBatchKMeans__init_size': None,\n",
        "  u'MiniBatchKMeans__max_iter': 100,\n",
        "  u'MiniBatchKMeans__max_no_improvement': 10,\n",
        "  u'MiniBatchKMeans__n_clusters': 480,\n",
        "  u'MiniBatchKMeans__n_init': 1,\n",
        "  u'MiniBatchKMeans__random_state': None,\n",
        "  u'MiniBatchKMeans__reassignment_ratio': 0.01,\n",
        "  u'MiniBatchKMeans__tol': 0.0,\n",
        "  u'MiniBatchKMeans__verbose': 0,\n",
        "  u'tICA__gamma': 0,\n",
        "  u'tICA__lag_time': 1,\n",
        "  u'tICA__n_components': 2,\n",
        "  u'tICA__weighted_transform': False}]\n"
       ]
      }
     ],
     "prompt_number": 89
    },
    {
     "cell_type": "code",
     "collapsed": false,
     "input": [
      "p = pipeline_from_trial(trials[0])\n",
      "p.fit(trajectories)\n",
      "all_tics = clone(Pipeline(p.steps[0:2])).fit_transform(trajectories)\n",
      "tics = np.concatenate(all_tics)\n",
      "print p"
     ],
     "language": "python",
     "metadata": {},
     "outputs": [
      {
       "output_type": "stream",
       "stream": "stdout",
       "text": [
        "Pipeline(steps=[('DihedralFeaturizer', DihedralFeaturizer(sincos=True, types=('phi', 'psi', 'chi1', 'chi2'))), ('tICA', tICA(gamma=0, lag_time=1, n_components=2, weighted_transform=True)), ('MiniBatchKMeans', MiniBatchKMeans(batch_size=10000, compute_labels=True, init='k-means++',\n",
        "        init_size=None, max..., lag_time=1, n_timescales=3, prior_counts=0,\n",
        "         reversible_type='transpose', verbose=False))])\n"
       ]
      }
     ],
     "prompt_number": 39
    },
    {
     "cell_type": "code",
     "collapsed": false,
     "input": [
      "pp.hexbin(tics[:,0], tics[:,1], cmap='hot_r', bins='log')\n",
      "pp.colorbar()\n",
      "centers = p.named_steps['MiniBatchKMeans'].cluster_centers_\n",
      "sizes = p.named_steps['MarkovStateModel'].populations_ * 1e4\n",
      "pp.scatter(centers[:, 0], centers[:, 1], c='none', s=sizes, alpha=0.3)\n",
      "all_tics = np.array(all_tics)\n",
      "pp.scatter(all_tics[:, 0, 0], all_tics[:, 0, 1], c='k')\n",
      "pp.xlabel('tIC 1')\n",
      "pp.ylabel('tIC 2')\n",
      "pp.xlim(-400, 1100)\n",
      "pp.ylim(-400, 600)\n",
      "fig = pp.gcf()\n",
      "pp.show()"
     ],
     "language": "python",
     "metadata": {},
     "outputs": [
      {
       "metadata": {},
       "output_type": "display_data",
       "png": "[encoded data removed]",
       "text": [
        "<matplotlib.figure.Figure at 0x7fde0f18b6d0>"
       ]
      }
     ],
     "prompt_number": 45
    },
    {
     "cell_type": "code",
     "collapsed": false,
     "input": [
      "from mdtraj.html import enable_notebook\n",
      "enable_notebook()"
     ],
     "language": "python",
     "metadata": {},
     "outputs": [
      {
       "javascript": [
        "$(\"head\").append($(\"<link/>\").attr({\n",
        "  rel:  \"stylesheet\",\n",
        "  type: \"text/css\",\n",
        "  href: \"//lab.jakiestfu.com/contextjs/context.standalone.css\"\n",
        "}));\n",
        "\n",
        "require.config({\n",
        "    paths: {\n",
        "        'three': '//cdnjs.cloudflare.com/ajax/libs/three.js/r68/three.min',\n",
        "        'iview' : '/nbextensions/iview',\n",
        "        'surface' : '/nbextensions/surface.min',\n",
        "        'exporter' : '/nbextensions/objexporter',\n",
        "        'filesaver' : '/nbextensions/filesaver',\n",
        "        'jqueryui': '//ajax.googleapis.com/ajax/libs/jqueryui/1.11.1/jquery-ui.min',\n",
        "        'contextmenu': '/nbextensions/context',\n",
        "    },\n",
        "    shim: {\n",
        "        three: {\n",
        "            exports: 'THREE'\n",
        "        },\n",
        "        iview: {\n",
        "            deps: ['three', 'surface'],\n",
        "            exports: 'iview'\n",
        "        },\n",
        "        surface: {\n",
        "            exports: 'ProteinSurface'\n",
        "        },\n",
        "        exporter: {\n",
        "            deps: ['three'],\n",
        "            exports: 'THREE.OBJExporter'\n",
        "        },\n",
        "        jqueryui: {\n",
        "            exports: \"$\"\n",
        "        },\n",
        "    },\n",
        "});\n"
       ],
       "metadata": {},
       "output_type": "display_data",
       "text": [
        "<IPython.core.display.Javascript at 0x7fde1131d790>"
       ]
      },
      {
       "javascript": [
        "/*\n",
        "This script creates and registers the TrajectoryView widget on the\n",
        "browser side. Basically, it's a small div, with the iview molecule viewer (WebGL-based\n",
        "protein visualization) hooked in. Changes to the class on the python side\n",
        "propagate here and modify `this.model.attributes`, and re-call `update`.\n",
        "*/\n",
        "\n",
        "require([\n",
        "    \"jquery\",\n",
        "    \"widgets/js/widget\",\n",
        "    \"iview\",\n",
        "    \"exporter\",\n",
        "    \"filesaver\",\n",
        "    \"contextmenu\",\n",
        "    // only loaded, not used\n",
        "    'jqueryui',\n",
        "    ],\n",
        "\n",
        "function($, WidgetManager, iview) {\n",
        "    var HEIGHT = 300,\n",
        "        WIDTH = 300,\n",
        "        HEIGHT_PX = '300px',\n",
        "        WIDTH_PX = '300px';\n",
        "\n",
        "    var TrajectoryView = IPython.DOMWidgetView.extend({\n",
        "        render : function() {\n",
        "            var canvas = $(\"<canvas/>\").height(HEIGHT).width(WIDTH);\n",
        "            var iv = new iview(canvas);\n",
        "            var container = $('<div/>').css({width: HEIGHT_PX, height: WIDTH_PX})\n",
        "                .resizable({\n",
        "                    aspectRatio: 1,\n",
        "                    resize: function(event, ui) {\n",
        "                        iv.renderer.setSize(ui.size.width, ui.size.height);\n",
        "                    },\n",
        "\t\t    stop : function(event, ui) {\n",
        "\t\t\tiv.render()\n",
        "\t\t    },\n",
        "                });\n",
        "            container.append(canvas);\n",
        "            this.setElement(container);\n",
        "            this.iv = iv;\n",
        "            this.setupContextMenu(iv);\n",
        "            this.setupFullScreen(canvas, container);\n",
        "            this.update();\n",
        "            var options = this.getOptions() \n",
        "            this.iv.zoomInto(options);\n",
        "\n",
        "\n",
        "            // debugging\n",
        "            window.iv = this.iv;\n",
        "            window.model = this.model;\n",
        "        },\n",
        "\n",
        "        update : function () {\n",
        "            /* This could definitely be done more efficiently. Right now we're\n",
        "            just recreating and redrawing everything. For the (presumably)\n",
        "            common use case where you just want to update the positions to the\n",
        "            next frame in a trajectory, there's no real need to redefine the\n",
        "            topology and representation.\n",
        "            */\n",
        "\n",
        "            console.log('TrajectoryView.update');\n",
        "\n",
        "            this.iv.loadTopology(this.model.attributes._topology);\n",
        "            this.iv.loadCoordinates(this.model.attributes._frameData.coordinates);\n",
        "            this.iv.loadAtomAttributes(this.model.attributes._frameData.secondaryStructure);\n",
        "           \n",
        "            var options = this.getOptions() \n",
        "            this.iv.rebuildScene(options)\n",
        "            this.iv.render()\n",
        "\n",
        "            return TrajectoryView.__super__.update.apply(this);\n",
        "        },\n",
        "        \n",
        "        setupContextMenu : function(iv) {\n",
        "            context.init({preventDoubleContext: true});\n",
        "            var menu = [{header: 'Export as...'},\n",
        "                    {text: 'PNG',\n",
        "                    action: function () {\n",
        "                        var dataURL = iv.renderer.domElement.toDataURL('image/png');\n",
        "                        var data = atob( dataURL.substring( \"data:image/png;base64,\".length ) ),\n",
        "                                asArray = new Uint8Array(data.length);\n",
        "                        for( var i = 0, len = data.length; i < len; ++i ) {\n",
        "                                asArray[i] = data.charCodeAt(i);    \n",
        "                        }\n",
        "                        var blob = new Blob( [ asArray.buffer ], {type: \"image/png\"} );\n",
        "                        saveAs(blob,\"mol.png\")\n",
        "                    }\n",
        "                }, { \n",
        "                    text: 'OBJ',\n",
        "                    action: function () {\n",
        "                       var obj = '';\n",
        "                       var exporter = new THREE.OBJExporter();\n",
        "                       iv.mdl.children.forEach( function (object) {\n",
        "                           obj = obj + String(exporter.parse(object.geometry));\n",
        "                       });\n",
        "                       var blob = new Blob([obj], { type : \"text/obj;charset=utf-8\"});\n",
        "                       saveAs(blob, \"mol.obj\");\n",
        "                    }\n",
        "                }];\n",
        "            context.attach('canvas',menu)\n",
        "            \n",
        "        },\n",
        "\n",
        "        getOptions : function() {\n",
        "\n",
        "             var options = {\n",
        "                'camera': this.model.attributes.camera,\n",
        "                'background': this.model.attributes.background,\n",
        "                'colorBy': this.model.attributes.colorBy,\n",
        "                'primaryStructure': this.model.attributes.primaryStructure,\n",
        "                'secondaryStructure': this.model.attributes.secondaryStructure,\n",
        "                'surface': this.model.attributes.surfaceRepresentation\n",
        "             };\n",
        "        \n",
        "             return options\n",
        "        },\n",
        "\n",
        "        setupFullScreen : function(canvas, container) {\n",
        "            // currently only works in chrome. need other prefixes for firefox\n",
        "            var iv = this.iv;\n",
        "            canvas.dblclick(function () {\n",
        "            \tif ('webkitCancelFullScreen' in document) {\n",
        "                    if (!document.webkitIsFullScreen) {\n",
        "\t\t\tvar minHW = Math.min(screen.width, screen.height);\n",
        "                \tcanvas[0].webkitRequestFullScreen();\n",
        "                        iv.renderer.setSize(minHW, minHW);\n",
        "                        iv.render();\n",
        "                    }\n",
        "                } else if ('mozCancelFullScreen' in document) {\n",
        "                    if (!document.mozIsFullScreen) {\n",
        "                        var minHW = Math.min(screen.width, screen.height);\n",
        "                \tcanvas[0].mozRequestFullScreen();\n",
        "                        iv.renderer.setSize(minHW, minHW);\n",
        "                        iv.render();\n",
        "                    }\n",
        "\t\t}\n",
        "            });\n",
        "\n",
        "            if ('webkitCancelFullScreen' in document) {\n",
        "\t\tdocument.addEventListener(\"webkitfullscreenchange\", function() {\n",
        "                    if (!document.webkitIsFullScreen) {\n",
        "\t\t\tcontainer.css({width: HEIGHT_PX, height: WIDTH_PX});\n",
        "\t\t\tiv.renderer.setSize(WIDTH, HEIGHT);\n",
        "\t\t\tiv.render();\n",
        "                    }\n",
        "\t\t});\n",
        "\t    } else if ('mozCancelFullScreen' in document) {\n",
        "\t\tdocument.addEventListener(\"mozfullscreenchange\", function() {\n",
        "                    if (!document.mozIsFullScreen) {\n",
        "\t\t\tiv.renderer.setSize(WIDTH, HEIGHT);\n",
        "\t\t\tcontainer.css({width: HEIGHT_PX, height: WIDTH_PX});\n",
        "\t\t\tiv.render();\n",
        "\n",
        "                    }\n",
        "\t\t});\n",
        "\t    }\n",
        "        },\n",
        "    });\n",
        "\n",
        "\n",
        "    WidgetManager.register_widget_view('TrajectoryView', TrajectoryView);\n",
        "});\n"
       ],
       "metadata": {},
       "output_type": "display_data",
       "text": [
        "<IPython.core.display.Javascript at 0x7fde10f61650>"
       ]
      },
      {
       "javascript": [
        "require([\"widgets/js/widget\"], function(WidgetManager){\n",
        "    var ImageButtonView = IPython.DOMWidgetView.extend({\n",
        "        render : function(){\n",
        "            // Called when view is rendered.\n",
        "            this.setElement($(\"<img />\"));\n",
        "            this.update(); // Set defaults.\n",
        "        },\n",
        "\n",
        "        update : function(){\n",
        "            // Update the contents of this view\n",
        "            //\n",
        "            // Called when the model is changed.  The model may have been \n",
        "            // changed by another view or by a state update from the back-end.\n",
        "            var image_src = 'data:image/' + this.model.get('format') + ';base64,' + this.model.get('_b64value');\n",
        "            console.log(this.model);\n",
        "            this.$el.attr('src', image_src);\n",
        "\n",
        "            var width = this.model.get('width');\n",
        "            if (width !== undefined && width.length > 0) {\n",
        "                this.$el.attr('width', width);\n",
        "            } else {\n",
        "                this.$el.removeAttr('width');\n",
        "            }\n",
        "            \n",
        "            var height = this.model.get('height');\n",
        "            if (height !== undefined && height.length > 0) {\n",
        "                this.$el.attr('height', height);\n",
        "            } else {\n",
        "                this.$el.removeAttr('height');\n",
        "            }\n",
        "            return ImageButtonView.__super__.update.apply(this);\n",
        "        },\n",
        "\n",
        "        events: {\n",
        "            // Dictionary of events and their handlers.\n",
        "            'click': '_handle_click',\n",
        "        },\n",
        "        \n",
        "        _handle_click: function(ev) {\n",
        "            // Handles when the button is clicked.\n",
        "            console.log(this.$el.offset());\n",
        "            var top = this.$el.offset().top;\n",
        "            var left = this.$el.offset().left;\n",
        "            var xAspect = this.$el.width() / this.$el[0].naturalWidth;\n",
        "            var yAspect = this.$el.height() / this.$el[0].naturalHeight;\n",
        "\n",
        "            \n",
        "            var x = (ev.pageX - left) / xAspect;\n",
        "            var y = (this.$el.height() - (ev.pageY - top)) / yAspect;\n",
        "            this.send({event: 'click', 'mouseX': x, 'mouseY': y});\n",
        "        },\n",
        "    });\n",
        "\n",
        "    // Register the DatePickerView with the widget manager.\n",
        "    WidgetManager.register_widget_view('ImageButtonView', ImageButtonView);\n",
        "});"
       ],
       "metadata": {},
       "output_type": "display_data",
       "text": [
        "<IPython.core.display.Javascript at 0x7fde10f4a550>"
       ]
      }
     ],
     "prompt_number": 21
    },
    {
     "cell_type": "code",
     "collapsed": false,
     "input": [
      "from mdtraj.html import TrajectoryHeatmap\n",
      "t = trajectories[0].join(trajectories[1:])\n",
      "t.center_coordinates()\n",
      "t.superpose(t[0])"
     ],
     "language": "python",
     "metadata": {},
     "outputs": [],
     "prompt_number": 24
    },
    {
     "cell_type": "code",
     "collapsed": false,
     "input": [
      "TrajectoryHeatmap(t, x=tics[:,0], y=tics[:, 1], fig=fig,\n",
      "                  primaryStructure='lines')"
     ],
     "language": "python",
     "metadata": {},
     "outputs": [
      {
       "output_type": "stream",
       "stream": "stdout",
       "text": [
        "(-269.89667338709677, -107.91330645161287, 165881)\n"
       ]
      },
      {
       "output_type": "stream",
       "stream": "stdout",
       "text": [
        "(-305.17893145161287, -111.94556451612902, 33117)\n"
       ]
      },
      {
       "output_type": "stream",
       "stream": "stdout",
       "text": [
        "(-209.41280241935482, -67.590725806451587, 66785)\n"
       ]
      },
      {
       "output_type": "stream",
       "stream": "stdout",
       "text": [
        "(874.25655241935476, 299.34475806451621, 156885)\n"
       ]
      },
      {
       "output_type": "stream",
       "stream": "stdout",
       "text": [
        "(-254.77570564516128, -107.91330645161287, 226517)\n"
       ]
      },
      {
       "output_type": "stream",
       "stream": "stdout",
       "text": [
        "(-290.05796370967738, -115.97782258064512, 168433)\n"
       ]
      },
      {
       "output_type": "stream",
       "stream": "stdout",
       "text": [
        "(-244.69506048387098, -132.10685483870964, 216293)\n"
       ]
      },
      {
       "output_type": "stream",
       "stream": "stdout",
       "text": [
        "(-254.77570564516128, -107.91330645161287, 226517)\n"
       ]
      },
      {
       "output_type": "stream",
       "stream": "stdout",
       "text": [
        "(-249.7353830645161, -83.7197580645161, 62690)\n"
       ]
      },
      {
       "output_type": "stream",
       "stream": "stdout",
       "text": [
        "(-279.97731854838707, -124.04233870967738, 194153)\n"
       ]
      },
      {
       "output_type": "stream",
       "stream": "stdout",
       "text": [
        "(-209.41280241935482, -120.01008064516128, 27932)\n"
       ]
      },
      {
       "output_type": "stream",
       "stream": "stdout",
       "text": [
        "(-254.77570564516128, -111.94556451612902, 64911)\n"
       ]
      },
      {
       "output_type": "stream",
       "stream": "stdout",
       "text": [
        "(-254.77570564516128, -79.687499999999943, 34763)\n"
       ]
      },
      {
       "output_type": "stream",
       "stream": "stdout",
       "text": [
        "(-254.77570564516128, -51.461693548387075, 34273)\n"
       ]
      },
      {
       "output_type": "stream",
       "stream": "stdout",
       "text": [
        "(914.57913306451599, 291.2802419354839, 157366)\n"
       ]
      },
      {
       "output_type": "stream",
       "stream": "stdout",
       "text": [
        "(884.33719758064501, 283.21572580645159, 158694)\n"
       ]
      },
      {
       "output_type": "stream",
       "stream": "stdout",
       "text": [
        "(879.29687499999989, 303.37701612903231, 156707)\n"
       ]
      },
      {
       "output_type": "stream",
       "stream": "stdout",
       "text": [
        "(849.05493951612891, 275.15120967741939, 158221)\n"
       ]
      },
      {
       "output_type": "stream",
       "stream": "stdout",
       "text": [
        "(859.13558467741939, 275.15120967741939, 158920)\n"
       ]
      },
      {
       "output_type": "stream",
       "stream": "stdout",
       "text": [
        "(904.49848790322574, 275.15120967741939, 158655)\n"
       ]
      },
      {
       "output_type": "stream",
       "stream": "stdout",
       "text": [
        "(894.41784274193549, 283.21572580645159, 156323)\n"
       ]
      },
      {
       "output_type": "stream",
       "stream": "stdout",
       "text": [
        "(838.97429435483866, 263.05443548387098, 155935)\n"
       ]
      },
      {
       "output_type": "stream",
       "stream": "stdout",
       "text": [
        "(884.33719758064501, 283.21572580645159, 158694)\n"
       ]
      },
      {
       "output_type": "stream",
       "stream": "stdout",
       "text": [
        "(-244.69506048387098, 218.69959677419354, 184770)\n"
       ]
      },
      {
       "output_type": "stream",
       "stream": "stdout",
       "text": [
        "(-199.33215725806451, 254.98991935483878, 80481)\n"
       ]
      },
      {
       "output_type": "stream",
       "stream": "stdout",
       "text": [
        "(375.26461693548379, -281.30040322580641, 254862)\n"
       ]
      },
      {
       "output_type": "stream",
       "stream": "stdout",
       "text": [
        "(450.86945564516134, -277.26814516129031, 243481)\n"
       ]
      },
      {
       "output_type": "stream",
       "stream": "stdout",
       "text": [
        "(476.07106854838719, -277.26814516129031, 246131)\n"
       ]
      },
      {
       "output_type": "stream",
       "stream": "stdout",
       "text": [
        "(370.22429435483866, -281.30040322580641, 254052)\n"
       ]
      },
      {
       "output_type": "stream",
       "stream": "stdout",
       "text": [
        "(103.08719758064512, 424.34475806451621, 4797)\n"
       ]
      },
      {
       "output_type": "stream",
       "stream": "stdout",
       "text": [
        "(123.24848790322585, 428.37701612903231, 3653)\n"
       ]
      },
      {
       "output_type": "stream",
       "stream": "stdout",
       "text": [
        "(87.966229838709637, 428.37701612903231, 4815)\n"
       ]
      },
      {
       "output_type": "stream",
       "stream": "stdout",
       "text": [
        "(198.85332661290317, -273.23588709677415, 252275)\n"
       ]
      },
      {
       "output_type": "stream",
       "stream": "stdout",
       "text": [
        "(168.6113911290322, -281.30040322580641, 258436)\n"
       ]
      },
      {
       "output_type": "stream",
       "stream": "stdout",
       "text": [
        "(168.6113911290322, -257.10685483870964, 259845)\n"
       ]
      },
      {
       "output_type": "stream",
       "stream": "stdout",
       "text": [
        "(213.97429435483866, -249.04233870967738, 259045)\n"
       ]
      },
      {
       "output_type": "stream",
       "stream": "stdout",
       "text": [
        "(264.37752016129036, -249.04233870967738, 259082)\n"
       ]
      },
      {
       "output_type": "stream",
       "stream": "stdout",
       "text": [
        "(254.296875, -273.23588709677415, 259385)\n"
       ]
      },
      {
       "output_type": "stream",
       "stream": "stdout",
       "text": [
        "(566.79687499999989, -261.13911290322579, 245330)\n"
       ]
      },
      {
       "output_type": "stream",
       "stream": "stdout",
       "text": [
        "(-305.17893145161287, -111.94556451612902, 33117)\n"
       ]
      },
      {
       "output_type": "stream",
       "stream": "stdout",
       "text": [
        "(-224.53377016129031, -67.590725806451587, 221025)\n"
       ]
      },
      {
       "output_type": "stream",
       "stream": "stdout",
       "text": [
        "(-174.13054435483866, -128.07459677419354, 125133)\n"
       ]
      },
      {
       "output_type": "stream",
       "stream": "stdout",
       "text": [
        "(-179.1708669354839, -71.622983870967687, 123780)\n"
       ]
      },
      {
       "output_type": "stream",
       "stream": "stdout",
       "text": [
        "(-108.60635080645159, -83.7197580645161, 167669)\n"
       ]
      },
      {
       "output_type": "stream",
       "stream": "stdout",
       "text": [
        "(-274.93699596774189, -51.461693548387075, 50723)\n"
       ]
      },
      {
       "output_type": "stream",
       "stream": "stdout",
       "text": [
        "(-274.93699596774189, -27.268145161290249, 268979)\n"
       ]
      },
      {
       "output_type": "stream",
       "stream": "stdout",
       "text": [
        "(-285.01764112903226, -27.268145161290249, 13117)\n"
       ]
      },
      {
       "output_type": "stream",
       "stream": "stdout",
       "text": [
        "(-279.97731854838707, 33.215725806451701, 13908)\n"
       ]
      },
      {
       "output_type": "stream",
       "stream": "stdout",
       "text": [
        "(-300.13860887096774, -15.17137096774195, 13407)\n"
       ]
      },
      {
       "output_type": "stream",
       "stream": "stdout",
       "text": [
        "(-285.01764112903226, 25.151209677419388, 12462)\n"
       ]
      },
      {
       "output_type": "stream",
       "stream": "stdout",
       "text": [
        "(-259.81602822580641, 198.53830645161293, 52750)\n"
       ]
      },
      {
       "output_type": "stream",
       "stream": "stdout",
       "text": [
        "(-259.81602822580641, 287.2479838709678, 80764)\n"
       ]
      },
      {
       "output_type": "stream",
       "stream": "stdout",
       "text": [
        "(-259.81602822580641, 109.82862903225805, 186968)\n"
       ]
      },
      {
       "output_type": "stream",
       "stream": "stdout",
       "text": [
        "(-259.81602822580641, 154.18346774193549, 130570)\n"
       ]
      },
      {
       "output_type": "stream",
       "stream": "stdout",
       "text": [
        "(-259.81602822580641, 263.05443548387098, 274085)\n"
       ]
      },
      {
       "output_type": "stream",
       "stream": "stdout",
       "text": [
        "(-239.65473790322579, 303.37701612903231, 170249)\n"
       ]
      },
      {
       "output_type": "stream",
       "stream": "stdout",
       "text": [
        "(-269.89667338709677, -132.10685483870964, 276871)\n"
       ]
      },
      {
       "output_type": "stream",
       "stream": "stdout",
       "text": [
        "(-194.29183467741933, -120.01008064516128, 174619)\n"
       ]
      },
      {
       "output_type": "stream",
       "stream": "stdout",
       "text": [
        "(-98.525705645161224, -132.10685483870964, 121362)\n"
       ]
      },
      {
       "output_type": "stream",
       "stream": "stdout",
       "text": [
        "(-17.880544354838662, -152.26814516129031, 31252)\n"
       ]
      },
      {
       "output_type": "stream",
       "stream": "stdout",
       "text": [
        "(77.885584677419388, 85.635080645161338, 208197)\n"
       ]
      },
      {
       "output_type": "stream",
       "stream": "stdout",
       "text": [
        "(87.966229838709637, 113.86088709677426, 73604)\n"
       ]
      },
      {
       "output_type": "stream",
       "stream": "stdout",
       "text": [
        "(118.20816532258061, 81.602822580645238, 200893)\n"
       ]
      },
      {
       "output_type": "stream",
       "stream": "stdout",
       "text": [
        "(168.6113911290322, 45.3125, 86666)\n"
       ]
      },
      {
       "output_type": "stream",
       "stream": "stdout",
       "text": [
        "(168.6113911290322, 45.3125, 86666)\n"
       ]
      },
      {
       "output_type": "stream",
       "stream": "stdout",
       "text": [
        "(229.09526209677415, 13.054435483870975, 75365)\n"
       ]
      },
      {
       "output_type": "stream",
       "stream": "stdout",
       "text": [
        "(178.69203629032256, 0.95766129032256231, 102829)\n"
       ]
      },
      {
       "output_type": "stream",
       "stream": "stdout",
       "text": [
        "(103.08719758064512, -19.20362903225805, 209882)\n"
       ]
      },
      {
       "output_type": "stream",
       "stream": "stdout",
       "text": [
        "(67.804939516129025, -111.94556451612902, 192459)\n"
       ]
      },
      {
       "output_type": "stream",
       "stream": "stdout",
       "text": [
        "(52.683971774193537, -261.13911290322579, 182053)\n"
       ]
      },
      {
       "output_type": "stream",
       "stream": "stdout",
       "text": [
        "(158.53074596774195, -261.13911290322579, 110042)\n"
       ]
      },
      {
       "output_type": "stream",
       "stream": "stdout",
       "text": [
        "(153.49042338709683, -180.49395161290317, 100916)\n"
       ]
      },
      {
       "output_type": "stream",
       "stream": "stdout",
       "text": [
        "(521.43397177419354, -79.687499999999943, 236786)\n"
       ]
      },
      {
       "output_type": "stream",
       "stream": "stdout",
       "text": [
        "(-285.01764112903226, -152.26814516129031, 114704)\n"
       ]
      },
      {
       "output_type": "stream",
       "stream": "stdout",
       "text": [
        "(-199.33215725806451, -136.13911290322579, 119187)\n"
       ]
      },
      {
       "output_type": "stream",
       "stream": "stdout",
       "text": [
        "(-103.56602822580646, -132.10685483870964, 220504)\n"
       ]
      },
      {
       "output_type": "stream",
       "stream": "stdout",
       "text": [
        "(-184.21118951612902, -132.10685483870964, 261765)\n"
       ]
      },
      {
       "output_type": "stream",
       "stream": "stdout",
       "text": [
        "(-169.09022177419354, -59.526209677419331, 65415)\n"
       ]
      },
      {
       "output_type": "stream",
       "stream": "stdout",
       "text": [
        "(-244.69506048387098, -3.0745967741935374, 190606)\n"
       ]
      },
      {
       "output_type": "stream",
       "stream": "stdout",
       "text": [
        "(-295.09828629032256, -91.784274193548356, 12860)\n"
       ]
      },
      {
       "output_type": "stream",
       "stream": "stdout",
       "text": [
        "(-300.13860887096774, -47.429435483870975, 13405)\n"
       ]
      },
      {
       "output_type": "stream",
       "stream": "stdout",
       "text": [
        "(-285.01764112903226, -11.139112903225737, 13203)\n"
       ]
      },
      {
       "output_type": "stream",
       "stream": "stdout",
       "text": [
        "(-43.082157258064512, -55.493951612903174, 68451)\n"
       ]
      },
      {
       "output_type": "stream",
       "stream": "stdout",
       "text": [
        "(-264.85635080645159, -27.268145161290249, 39125)\n"
       ]
      },
      {
       "output_type": "stream",
       "stream": "stdout",
       "text": [
        "(-290.05796370967738, -23.23588709677415, 11520)\n"
       ]
      },
      {
       "output_type": "stream",
       "stream": "stdout",
       "text": [
        "(-274.93699596774189, 9.0221774193548754, 13823)\n"
       ]
      },
      {
       "output_type": "stream",
       "stream": "stdout",
       "text": [
        "(-22.9208669354839, -212.7520161290322, 279633)\n"
       ]
      },
      {
       "output_type": "stream",
       "stream": "stdout",
       "text": [
        "(-38.041834677419388, -212.7520161290322, 279195)\n"
       ]
      },
      {
       "output_type": "stream",
       "stream": "stdout",
       "text": [
        "(-78.364415322580612, -208.7197580645161, 99723)\n"
       ]
      },
      {
       "output_type": "stream",
       "stream": "stdout",
       "text": [
        "(-43.082157258064512, -172.42943548387092, 279236)\n"
       ]
      },
      {
       "output_type": "stream",
       "stream": "stdout",
       "text": [
        "(22.442036290322562, -228.88104838709671, 181583)\n"
       ]
      },
      {
       "output_type": "stream",
       "stream": "stdout",
       "text": [
        "(350.06300403225816, 275.15120967741939, 41217)\n"
       ]
      },
      {
       "output_type": "stream",
       "stream": "stdout",
       "text": [
        "(345.02268145161281, 307.40927419354841, 48901)\n"
       ]
      },
      {
       "output_type": "stream",
       "stream": "stdout",
       "text": [
        "(-249.7353830645161, -111.94556451612902, 136749)\n"
       ]
      },
      {
       "output_type": "stream",
       "stream": "stdout",
       "text": [
        "(-259.81602822580641, -111.94556451612902, 64850)\n"
       ]
      },
      {
       "output_type": "stream",
       "stream": "stdout",
       "text": [
        "(-259.81602822580641, -95.816532258064456, 34867)\n"
       ]
      },
      {
       "output_type": "stream",
       "stream": "stdout",
       "text": [
        "(-249.7353830645161, -83.7197580645161, 62690)\n"
       ]
      },
      {
       "output_type": "stream",
       "stream": "stdout",
       "text": [
        "(-249.7353830645161, -132.10685483870964, 223670)\n"
       ]
      },
      {
       "output_type": "stream",
       "stream": "stdout",
       "text": [
        "(-274.93699596774189, -140.17137096774189, 266852)\n"
       ]
      },
      {
       "output_type": "stream",
       "stream": "stdout",
       "text": [
        "(-274.93699596774189, -95.816532258064456, 222620)\n"
       ]
      },
      {
       "output_type": "stream",
       "stream": "stdout",
       "text": [
        "(-249.7353830645161, -128.07459677419354, 266911)\n"
       ]
      },
      {
       "output_type": "stream",
       "stream": "stdout",
       "text": [
        "(-285.01764112903226, -132.10685483870964, 61888)\n"
       ]
      },
      {
       "output_type": "stream",
       "stream": "stdout",
       "text": [
        "(-285.01764112903226, -120.01008064516128, 194848)\n"
       ]
      },
      {
       "output_type": "stream",
       "stream": "stdout",
       "text": [
        "(-189.25151209677415, -132.10685483870964, 264137)\n"
       ]
      },
      {
       "output_type": "stream",
       "stream": "stdout",
       "text": [
        "(-128.7676411290322, -136.13911290322579, 220734)\n"
       ]
      },
      {
       "output_type": "stream",
       "stream": "stdout",
       "text": [
        "(-63.243447580645125, -152.26814516129031, 195092)\n"
       ]
      },
      {
       "output_type": "stream",
       "stream": "stdout",
       "text": [
        "(-108.60635080645159, -111.94556451612902, 229362)\n"
       ]
      },
      {
       "output_type": "stream",
       "stream": "stdout",
       "text": [
        "(-153.96925403225805, -111.94556451612902, 261919)\n"
       ]
      },
      {
       "output_type": "stream",
       "stream": "stdout",
       "text": [
        "(-133.80796370967744, -156.30040322580641, 31593)\n"
       ]
      },
      {
       "output_type": "stream",
       "stream": "stdout",
       "text": [
        "(-138.84828629032256, -124.04233870967738, 111695)\n"
       ]
      },
      {
       "output_type": "stream",
       "stream": "stdout",
       "text": [
        "(-128.7676411290322, -91.784274193548356, 21111)\n"
       ]
      },
      {
       "output_type": "stream",
       "stream": "stdout",
       "text": [
        "(-194.29183467741933, -120.01008064516128, 174619)\n"
       ]
      },
      {
       "output_type": "stream",
       "stream": "stdout",
       "text": [
        "(-204.37247983870964, -87.752016129032199, 67541)\n"
       ]
      },
      {
       "output_type": "stream",
       "stream": "stdout",
       "text": [
        "(-148.92893145161293, -87.752016129032199, 218168)\n"
       ]
      },
      {
       "output_type": "stream",
       "stream": "stdout",
       "text": [
        "(-269.89667338709677, -11.139112903225737, 13397)\n"
       ]
      },
      {
       "output_type": "stream",
       "stream": "stdout",
       "text": [
        "(859.13558467741939, 319.50604838709683, 158489)\n"
       ]
      },
      {
       "output_type": "stream",
       "stream": "stdout",
       "text": [
        "(904.49848790322574, 291.2802419354839, 158035)\n"
       ]
      },
      {
       "output_type": "stream",
       "stream": "stdout",
       "text": [
        "(904.49848790322574, 254.98991935483878, 153855)\n"
       ]
      },
      {
       "output_type": "stream",
       "stream": "stdout",
       "text": [
        "(904.49848790322574, 210.63508064516134, 154241)\n"
       ]
      },
      {
       "output_type": "stream",
       "stream": "stdout",
       "text": [
        "(889.37752016129036, 246.92540322580646, 158010)\n"
       ]
      },
      {
       "output_type": "stream",
       "stream": "stdout",
       "text": [
        "(924.65977822580646, 279.18346774193549, 158316)\n"
       ]
      },
      {
       "output_type": "stream",
       "stream": "stdout",
       "text": [
        "(536.55493951612891, -281.30040322580641, 246971)\n"
       ]
      },
      {
       "output_type": "stream",
       "stream": "stdout",
       "text": [
        "(561.75655241935476, -261.13911290322579, 249984)\n"
       ]
      },
      {
       "output_type": "stream",
       "stream": "stdout",
       "text": [
        "(360.14364919354841, -253.07459677419354, 240211)\n"
       ]
      },
      {
       "output_type": "stream",
       "stream": "stdout",
       "text": [
        "(395.42590725806451, -305.49395161290317, 241005)\n"
       ]
      },
      {
       "output_type": "stream",
       "stream": "stdout",
       "text": [
        "(329.90171370967744, -305.49395161290317, 256758)\n"
       ]
      },
      {
       "output_type": "stream",
       "stream": "stdout",
       "text": [
        "(919.61945564516134, -59.526209677419331, 153181)\n"
       ]
      },
      {
       "output_type": "stream",
       "stream": "stdout",
       "text": [
        "(919.61945564516134, -99.848790322580612, 150101)\n"
       ]
      },
      {
       "output_type": "stream",
       "stream": "stdout",
       "text": [
        "(894.41784274193549, -99.848790322580612, 150111)\n"
       ]
      },
      {
       "output_type": "stream",
       "stream": "stdout",
       "text": [
        "(884.33719758064501, -99.848790322580612, 150178)\n"
       ]
      },
      {
       "output_type": "stream",
       "stream": "stdout",
       "text": [
        "(793.61139112903231, -79.687499999999943, 150719)\n"
       ]
      },
      {
       "output_type": "stream",
       "stream": "stdout",
       "text": [
        "(728.08719758064524, -91.784274193548356, 230264)\n"
       ]
      },
      {
       "output_type": "stream",
       "stream": "stdout",
       "text": [
        "(849.05493951612891, -3.0745967741935374, 150130)\n"
       ]
      },
      {
       "output_type": "stream",
       "stream": "stdout",
       "text": [
        "(889.37752016129036, 13.054435483870975, 150292)\n"
       ]
      },
      {
       "output_type": "stream",
       "stream": "stdout",
       "text": [
        "(954.90171370967744, 4.9899193548387757, 153321)\n"
       ]
      },
      {
       "output_type": "stream",
       "stream": "stdout",
       "text": [
        "(-254.77570564516128, 174.34475806451621, 132722)\n"
       ]
      },
      {
       "output_type": "stream",
       "stream": "stdout",
       "text": [
        "(-234.61441532258061, 154.18346774193549, 275621)\n"
       ]
      },
      {
       "output_type": "stream",
       "stream": "stdout",
       "text": [
        "(-179.1708669354839, 162.2479838709678, 275488)\n"
       ]
      },
      {
       "output_type": "stream",
       "stream": "stdout",
       "text": [
        "(-164.04989919354841, 166.2802419354839, 97656)\n"
       ]
      },
      {
       "output_type": "stream",
       "stream": "stdout",
       "text": [
        "(-133.80796370967744, 174.34475806451621, 260497)\n"
       ]
      },
      {
       "output_type": "stream",
       "stream": "stdout",
       "text": [
        "(-133.80796370967744, 174.34475806451621, 260497)\n"
       ]
      },
      {
       "output_type": "stream",
       "stream": "stdout",
       "text": [
        "(-7.7998991935484128, 121.92540322580646, 179680)\n"
       ]
      },
      {
       "output_type": "stream",
       "stream": "stdout",
       "text": [
        "(143.40977822580646, 69.506048387096826, 200729)\n"
       ]
      },
      {
       "output_type": "stream",
       "stream": "stdout",
       "text": [
        "(62.7646169354839, 105.79637096774195, 46570)\n"
       ]
      },
      {
       "output_type": "stream",
       "stream": "stdout",
       "text": [
        "(123.24848790322585, 49.344758064516213, 204601)\n"
       ]
      },
      {
       "output_type": "stream",
       "stream": "stdout",
       "text": [
        "(244.21622983870964, 29.183467741935488, 231475)\n"
       ]
      },
      {
       "output_type": "stream",
       "stream": "stdout",
       "text": [
        "(128.28881048387098, 17.086693548387075, 209356)\n"
       ]
      },
      {
       "output_type": "stream",
       "stream": "stdout",
       "text": [
        "(98.046875, 4.9899193548387757, 72123)\n"
       ]
      },
      {
       "output_type": "stream",
       "stream": "stdout",
       "text": [
        "(-174.13054435483866, 121.92540322580646, 97724)\n"
       ]
      },
      {
       "output_type": "stream",
       "stream": "stdout",
       "text": [
        "(-254.77570564516128, 129.98991935483878, 185339)\n"
       ]
      },
      {
       "output_type": "stream",
       "stream": "stdout",
       "text": [
        "(556.71622983870964, -281.30040322580641, 248689)\n"
       ]
      },
      {
       "output_type": "stream",
       "stream": "stdout",
       "text": [
        "(370.22429435483866, -277.26814516129031, 243702)\n"
       ]
      },
      {
       "output_type": "stream",
       "stream": "stdout",
       "text": [
        "(-22.9208669354839, 404.18346774193549, 7415)\n"
       ]
      },
      {
       "output_type": "stream",
       "stream": "stdout",
       "text": [
        "(-143.88860887096769, 404.18346774193549, 225)\n"
       ]
      },
      {
       "output_type": "stream",
       "stream": "stdout",
       "text": [
        "(-159.00957661290317, 400.15120967741939, 117)\n"
       ]
      },
      {
       "output_type": "stream",
       "stream": "stdout",
       "text": [
        "(-229.57409274193549, 400.15120967741939, 170151)\n"
       ]
      },
      {
       "output_type": "stream",
       "stream": "stdout",
       "text": [
        "(-244.69506048387098, 371.92540322580646, 170142)\n"
       ]
      },
      {
       "output_type": "stream",
       "stream": "stdout",
       "text": [
        "(-38.041834677419388, 327.57056451612902, 172905)\n"
       ]
      },
      {
       "output_type": "stream",
       "stream": "stdout",
       "text": [
        "(2.2807459677419502, 307.40927419354841, 141974)\n"
       ]
      },
      {
       "output_type": "stream",
       "stream": "stdout",
       "text": [
        "(42.603326612903174, 303.37701612903231, 104647)\n"
       ]
      },
      {
       "output_type": "stream",
       "stream": "stdout",
       "text": [
        "(87.966229838709637, 271.11895161290329, 41944)\n"
       ]
      },
      {
       "output_type": "stream",
       "stream": "stdout",
       "text": [
        "(-12.840221774193537, 275.15120967741939, 104510)\n"
       ]
      },
      {
       "output_type": "stream",
       "stream": "stdout",
       "text": [
        "(788.57106854838696, 4.9899193548387757, 152576)\n"
       ]
      },
      {
       "output_type": "stream",
       "stream": "stdout",
       "text": [
        "(849.05493951612891, -107.91330645161287, 150214)\n"
       ]
      },
      {
       "output_type": "stream",
       "stream": "stdout",
       "text": [
        "(1000.2646169354838, -111.94556451612902, 153291)\n"
       ]
      },
      {
       "output_type": "stream",
       "stream": "stdout",
       "text": [
        "(-269.89667338709677, -107.91330645161287, 165881)\n"
       ]
      },
      {
       "output_type": "stream",
       "stream": "stdout",
       "text": [
        "(-264.85635080645159, -115.97782258064512, 65608)\n"
       ]
      },
      {
       "output_type": "stream",
       "stream": "stdout",
       "text": [
        "(-264.85635080645159, -115.97782258064512, 65608)\n"
       ]
      },
      {
       "output_type": "stream",
       "stream": "stdout",
       "text": [
        "(-239.65473790322579, -115.97782258064512, 267082)\n"
       ]
      },
      {
       "output_type": "stream",
       "stream": "stdout",
       "text": [
        "(-239.65473790322579, -115.97782258064512, 267082)\n"
       ]
      },
      {
       "output_type": "stream",
       "stream": "stdout",
       "text": [
        "(-254.77570564516128, -115.97782258064512, 38569)\n"
       ]
      },
      {
       "output_type": "stream",
       "stream": "stdout",
       "text": [
        "(-254.77570564516128, -115.97782258064512, 38569)\n"
       ]
      },
      {
       "output_type": "stream",
       "stream": "stdout",
       "text": [
        "(-279.97731854838707, -132.10685483870964, 227354)\n"
       ]
      },
      {
       "output_type": "stream",
       "stream": "stdout",
       "text": [
        "(-279.97731854838707, -107.91330645161287, 166876)\n"
       ]
      },
      {
       "output_type": "stream",
       "stream": "stdout",
       "text": [
        "(-214.453125, -120.01008064516128, 111356)\n"
       ]
      },
      {
       "output_type": "stream",
       "stream": "stdout",
       "text": [
        "(-153.96925403225805, -120.01008064516128, 219133)\n"
       ]
      },
      {
       "output_type": "stream",
       "stream": "stdout",
       "text": [
        "(-159.00957661290317, -124.04233870967738, 217950)\n"
       ]
      },
      {
       "output_type": "stream",
       "stream": "stdout",
       "text": [
        "(-143.88860887096769, -128.07459677419354, 217640)\n"
       ]
      },
      {
       "output_type": "stream",
       "stream": "stdout",
       "text": [
        "(-159.00957661290317, -103.88104838709677, 27333)\n"
       ]
      },
      {
       "output_type": "stream",
       "stream": "stdout",
       "text": [
        "(-103.56602822580646, -111.94556451612902, 56958)\n"
       ]
      },
      {
       "output_type": "stream",
       "stream": "stdout",
       "text": [
        "(-78.364415322580612, -111.94556451612902, 228205)\n"
       ]
      },
      {
       "output_type": "stream",
       "stream": "stdout",
       "text": [
        "(-48.122479838709637, -111.94556451612902, 105694)\n"
       ]
      },
      {
       "output_type": "stream",
       "stream": "stdout",
       "text": [
        "(-22.9208669354839, -107.91330645161287, 107091)\n"
       ]
      },
      {
       "output_type": "stream",
       "stream": "stdout",
       "text": [
        "(-48.122479838709637, -107.91330645161287, 122284)\n"
       ]
      },
      {
       "output_type": "stream",
       "stream": "stdout",
       "text": [
        "(-93.4853830645161, -111.94556451612902, 23487)\n"
       ]
      },
      {
       "output_type": "stream",
       "stream": "stdout",
       "text": [
        "(-189.25151209677415, -115.97782258064512, 67352)\n"
       ]
      },
      {
       "output_type": "stream",
       "stream": "stdout",
       "text": [
        "(2.2807459677419502, -124.04233870967738, 30604)\n"
       ]
      },
      {
       "output_type": "stream",
       "stream": "stdout",
       "text": [
        "(57.724294354838662, -132.10685483870964, 106999)\n"
       ]
      },
      {
       "output_type": "stream",
       "stream": "stdout",
       "text": [
        "(108.12752016129036, -140.17137096774189, 100474)\n"
       ]
      },
      {
       "output_type": "stream",
       "stream": "stdout",
       "text": [
        "(183.73235887096769, -144.20362903225805, 192822)\n"
       ]
      },
      {
       "output_type": "stream",
       "stream": "stdout",
       "text": [
        "(148.45010080645159, -144.20362903225805, 180303)\n"
       ]
      },
      {
       "output_type": "stream",
       "stream": "stdout",
       "text": [
        "(229.09526209677415, -144.20362903225805, 83795)\n"
       ]
      },
      {
       "output_type": "stream",
       "stream": "stdout",
       "text": [
        "(294.61945564516122, -156.30040322580641, 212498)\n"
       ]
      },
      {
       "output_type": "stream",
       "stream": "stdout",
       "text": [
        "(410.54687499999989, -192.59072580645159, 241604)\n"
       ]
      },
      {
       "output_type": "stream",
       "stream": "stdout",
       "text": [
        "(486.15171370967744, -192.59072580645159, 250402)\n"
       ]
      },
      {
       "output_type": "stream",
       "stream": "stdout",
       "text": [
        "(566.79687499999989, -192.59072580645159, 251019)\n"
       ]
      },
      {
       "output_type": "stream",
       "stream": "stdout",
       "text": [
        "(697.84526209677426, -192.59072580645159, 250220)\n"
       ]
      },
      {
       "output_type": "stream",
       "stream": "stdout",
       "text": [
        "(-229.57409274193549, 218.69959677419354, 179750)\n"
       ]
      },
      {
       "output_type": "stream",
       "stream": "stdout",
       "text": [
        "(-214.453125, 267.08669354838707, 81201)\n"
       ]
      },
      {
       "output_type": "stream",
       "stream": "stdout",
       "text": [
        "(-219.49344758064512, 315.47379032258073, 178243)\n"
       ]
      },
      {
       "output_type": "stream",
       "stream": "stdout",
       "text": [
        "(-219.49344758064512, 315.47379032258073, 178243)\n"
       ]
      },
      {
       "output_type": "stream",
       "stream": "stdout",
       "text": [
        "(-118.68699596774195, 307.40927419354841, 1275)\n"
       ]
      },
      {
       "output_type": "stream",
       "stream": "stdout",
       "text": [
        "(-53.162802419354875, 275.15120967741939, 81334)\n"
       ]
      },
      {
       "output_type": "stream",
       "stream": "stdout",
       "text": [
        "(-7.7998991935484128, 291.2802419354839, 141698)\n"
       ]
      },
      {
       "output_type": "stream",
       "stream": "stdout",
       "text": [
        "(87.966229838709637, 343.69959677419354, 104197)\n"
       ]
      },
      {
       "output_type": "stream",
       "stream": "stdout",
       "text": [
        "(47.643649193548413, 432.40927419354841, 6456)\n"
       ]
      },
      {
       "output_type": "stream",
       "stream": "stdout",
       "text": [
        "(-27.961189516129025, 472.73185483870975, 7048)\n"
       ]
      },
      {
       "output_type": "stream",
       "stream": "stdout",
       "text": [
        "(57.724294354838662, 230.79637096774195, 179398)\n"
       ]
      },
      {
       "output_type": "stream",
       "stream": "stdout",
       "text": [
        "(193.81300403225805, 210.63508064516134, 41985)\n"
       ]
      },
      {
       "output_type": "stream",
       "stream": "stdout",
       "text": [
        "(193.81300403225805, 210.63508064516134, 41985)\n"
       ]
      },
      {
       "output_type": "stream",
       "stream": "stdout",
       "text": [
        "(254.296875, 263.05443548387098, 40931)\n"
       ]
      },
      {
       "output_type": "stream",
       "stream": "stdout",
       "text": [
        "(355.10332661290329, 230.79637096774195, 40648)\n"
       ]
      },
      {
       "output_type": "stream",
       "stream": "stdout",
       "text": [
        "(360.14364919354841, 295.3125, 49440)\n"
       ]
      },
      {
       "output_type": "stream",
       "stream": "stdout",
       "text": [
        "(279.49848790322585, 254.98991935483878, 40661)\n"
       ]
      },
      {
       "output_type": "stream",
       "stream": "stdout",
       "text": [
        "(113.16784274193549, 69.506048387096826, 205690)\n"
       ]
      },
      {
       "output_type": "stream",
       "stream": "stdout",
       "text": [
        "(108.12752016129036, -11.139112903225737, 75728)\n"
       ]
      },
      {
       "output_type": "stream",
       "stream": "stdout",
       "text": [
        "(-259.81602822580641, 379.98991935483878, 170152)\n"
       ]
      },
      {
       "output_type": "stream",
       "stream": "stdout",
       "text": [
        "(-274.93699596774189, 295.3125, 178268)\n"
       ]
      },
      {
       "output_type": "stream",
       "stream": "stdout",
       "text": [
        "(-209.41280241935482, 174.34475806451621, 187251)\n"
       ]
      },
      {
       "output_type": "stream",
       "stream": "stdout",
       "text": [
        "(-365.66280241935482, 134.02217741935488, 130133)\n"
       ]
      },
      {
       "output_type": "stream",
       "stream": "stdout",
       "text": [
        "(-108.60635080645159, 89.667338709677438, 93873)\n"
       ]
      },
      {
       "output_type": "stream",
       "stream": "stdout",
       "text": [
        "(-83.40473790322585, 101.76411290322585, 140439)\n"
       ]
      },
      {
       "output_type": "stream",
       "stream": "stdout",
       "text": [
        "(-22.9208669354839, 57.409274193548413, 68428)\n"
       ]
      },
      {
       "output_type": "stream",
       "stream": "stdout",
       "text": [
        "(-68.283770161290363, 81.602822580645238, 140499)\n"
       ]
      },
      {
       "output_type": "stream",
       "stream": "stdout",
       "text": [
        "(-204.37247983870964, 162.2479838709678, 97622)\n"
       ]
      },
      {
       "output_type": "stream",
       "stream": "stdout",
       "text": [
        "(-103.56602822580646, 129.98991935483878, 59089)\n"
       ]
      },
      {
       "output_type": "stream",
       "stream": "stdout",
       "text": [
        "(-43.082157258064512, 138.05443548387098, 82247)\n"
       ]
      },
      {
       "output_type": "stream",
       "stream": "stdout",
       "text": [
        "(-22.9208669354839, 77.570564516129025, 184375)\n"
       ]
      },
      {
       "output_type": "stream",
       "stream": "stdout",
       "text": [
        "(7.3210685483870748, 17.086693548387075, 184326)\n"
       ]
      },
      {
       "output_type": "stream",
       "stream": "stdout",
       "text": [
        "(27.482358870967801, -27.268145161290249, 68351)\n"
       ]
      },
      {
       "output_type": "stream",
       "stream": "stdout",
       "text": [
        "(47.643649193548413, -55.493951612903174, 123276)\n"
       ]
      },
      {
       "output_type": "stream",
       "stream": "stdout",
       "text": [
        "(173.65171370967744, 85.635080645161338, 42141)\n"
       ]
      },
      {
       "output_type": "stream",
       "stream": "stdout",
       "text": [
        "(234.13558467741939, 109.82862903225805, 231853)\n"
       ]
      },
      {
       "output_type": "stream",
       "stream": "stdout",
       "text": [
        "(319.82106854838707, 117.89314516129036, 231689)\n"
       ]
      },
      {
       "output_type": "stream",
       "stream": "stdout",
       "text": [
        "(788.57106854838696, -83.7197580645161, 150389)\n"
       ]
      },
      {
       "output_type": "stream",
       "stream": "stdout",
       "text": [
        "(748.24848790322574, -91.784274193548356, 230215)\n"
       ]
      },
      {
       "output_type": "stream",
       "stream": "stdout",
       "text": [
        "(667.60332661290329, -107.91330645161287, 250857)\n"
       ]
      },
      {
       "output_type": "stream",
       "stream": "stdout",
       "text": [
        "(597.03881048387086, -107.91330645161287, 230650)\n"
       ]
      },
      {
       "output_type": "stream",
       "stream": "stdout",
       "text": [
        "(516.39364919354841, -111.94556451612902, 250018)\n"
       ]
      },
      {
       "output_type": "stream",
       "stream": "stdout",
       "text": [
        "(496.23235887096769, -115.97782258064512, 120130)\n"
       ]
      },
      {
       "output_type": "stream",
       "stream": "stdout",
       "text": [
        "(390.38558467741939, -111.94556451612902, 238760)\n"
       ]
      },
      {
       "output_type": "stream",
       "stream": "stdout",
       "text": [
        "(274.45816532258061, -107.91330645161287, 200191)\n"
       ]
      },
      {
       "output_type": "stream",
       "stream": "stdout",
       "text": [
        "(168.6113911290322, -79.687499999999943, 42369)\n"
       ]
      },
      {
       "output_type": "stream",
       "stream": "stdout",
       "text": [
        "(87.966229838709637, -103.88104838709677, 183059)\n"
       ]
      },
      {
       "output_type": "stream",
       "stream": "stdout",
       "text": [
        "(32.522681451612925, -107.91330645161287, 192427)\n"
       ]
      },
      {
       "output_type": "stream",
       "stream": "stdout",
       "text": [
        "(22.442036290322562, -107.91330645161287, 108447)\n"
       ]
      },
      {
       "output_type": "stream",
       "stream": "stdout",
       "text": [
        "(12.361391129032313, -107.91330645161287, 192682)\n"
       ]
      },
      {
       "output_type": "stream",
       "stream": "stdout",
       "text": [
        "(-7.7998991935484128, -111.94556451612902, 229233)\n"
       ]
      },
      {
       "output_type": "stream",
       "stream": "stdout",
       "text": [
        "(-33.00151209677415, -115.97782258064512, 121289)\n"
       ]
      },
      {
       "output_type": "stream",
       "stream": "stdout",
       "text": [
        "(-33.00151209677415, -115.97782258064512, 121289)\n"
       ]
      },
      {
       "output_type": "stream",
       "stream": "stdout",
       "text": [
        "(-63.243447580645125, -115.97782258064512, 107836)\n"
       ]
      },
      {
       "output_type": "stream",
       "stream": "stdout",
       "text": [
        "(-108.60635080645159, -115.97782258064512, 119855)\n"
       ]
      },
      {
       "output_type": "stream",
       "stream": "stdout",
       "text": [
        "(-179.1708669354839, -115.97782258064512, 216683)\n"
       ]
      },
      {
       "output_type": "stream",
       "stream": "stdout",
       "text": [
        "(-239.65473790322579, -111.94556451612902, 116462)\n"
       ]
      },
      {
       "output_type": "stream",
       "stream": "stdout",
       "text": [
        "(718.00655241935476, -120.01008064516128, 250150)\n"
       ]
      },
      {
       "output_type": "stream",
       "stream": "stdout",
       "text": [
        "(-224.53377016129031, 230.79637096774195, 177622)\n"
       ]
      },
      {
       "output_type": "stream",
       "stream": "stdout",
       "text": [
        "(-259.81602822580641, 267.08669354838707, 16566)\n"
       ]
      },
      {
       "output_type": "stream",
       "stream": "stdout",
       "text": [
        "(-259.81602822580641, 307.40927419354841, 273800)\n"
       ]
      },
      {
       "output_type": "stream",
       "stream": "stdout",
       "text": [
        "(-264.85635080645159, 210.63508064516134, 19722)\n"
       ]
      },
      {
       "output_type": "stream",
       "stream": "stdout",
       "text": [
        "(-259.81602822580641, 174.34475806451621, 53154)\n"
       ]
      },
      {
       "output_type": "stream",
       "stream": "stdout",
       "text": [
        "(-249.7353830645161, 335.63508064516134, 273864)\n"
       ]
      },
      {
       "output_type": "stream",
       "stream": "stdout",
       "text": [
        "(-244.69506048387098, 347.73185483870975, 273902)\n"
       ]
      },
      {
       "output_type": "stream",
       "stream": "stdout",
       "text": [
        "(-254.77570564516128, 299.34475806451621, 170374)\n"
       ]
      },
      {
       "output_type": "stream",
       "stream": "stdout",
       "text": [
        "(-174.13054435483866, 263.05443548387098, 81244)\n"
       ]
      },
      {
       "output_type": "stream",
       "stream": "stdout",
       "text": [
        "(-189.25151209677415, 307.40927419354841, 147935)\n"
       ]
      },
      {
       "output_type": "stream",
       "stream": "stdout",
       "text": [
        "(-189.25151209677415, 323.53830645161293, 170055)\n"
       ]
      },
      {
       "output_type": "stream",
       "stream": "stdout",
       "text": [
        "(465.99042338709671, -103.88104838709677, 236502)\n"
       ]
      },
      {
       "output_type": "stream",
       "stream": "stdout",
       "text": [
        "(465.99042338709671, -87.752016129032199, 77319)\n"
       ]
      },
      {
       "output_type": "stream",
       "stream": "stdout",
       "text": [
        "(405.50655241935476, -95.816532258064456, 77065)\n"
       ]
      },
      {
       "output_type": "stream",
       "stream": "stdout",
       "text": [
        "(360.14364919354841, -103.88104838709677, 211931)\n"
       ]
      },
      {
       "output_type": "stream",
       "stream": "stdout",
       "text": [
        "(254.296875, -107.91330645161287, 102144)\n"
       ]
      },
      {
       "output_type": "stream",
       "stream": "stdout",
       "text": [
        "(173.65171370967744, -107.91330645161287, 45100)\n"
       ]
      },
      {
       "output_type": "stream",
       "stream": "stdout",
       "text": [
        "(133.3291330645161, -111.94556451612902, 40075)\n"
       ]
      },
      {
       "output_type": "stream",
       "stream": "stdout",
       "text": [
        "(72.84526209677415, -115.97782258064512, 42623)\n"
       ]
      },
      {
       "output_type": "stream",
       "stream": "stdout",
       "text": [
        "(-7.7998991935484128, -115.97782258064512, 30476)\n"
       ]
      },
      {
       "output_type": "stream",
       "stream": "stdout",
       "text": [
        "(-83.40473790322585, -111.94556451612902, 229783)\n"
       ]
      },
      {
       "output_type": "stream",
       "stream": "stdout",
       "text": [
        "(-148.92893145161293, -111.94556451612902, 27341)\n"
       ]
      },
      {
       "output_type": "stream",
       "stream": "stdout",
       "text": [
        "(-244.69506048387098, -120.01008064516128, 95136)\n"
       ]
      },
      {
       "output_type": "stream",
       "stream": "stdout",
       "text": [
        "(-320.29989919354836, -124.04233870967738, 115055)\n"
       ]
      },
      {
       "output_type": "stream",
       "stream": "stdout",
       "text": [
        "(531.51461693548379, -47.429435483870975, 231216)\n"
       ]
      },
      {
       "output_type": "stream",
       "stream": "stdout",
       "text": [
        "(445.82913306451621, -63.558467741935431, 77740)\n"
       ]
      },
      {
       "output_type": "stream",
       "stream": "stdout",
       "text": [
        "(193.81300403225805, -95.816532258064456, 89295)\n"
       ]
      },
      {
       "output_type": "stream",
       "stream": "stdout",
       "text": [
        "(289.5791330645161, -136.13911290322579, 212720)\n"
       ]
      },
      {
       "output_type": "stream",
       "stream": "stdout",
       "text": [
        "(304.70010080645159, -99.848790322580612, 78513)\n"
       ]
      },
      {
       "output_type": "stream",
       "stream": "stdout",
       "text": [
        "(103.08719758064512, 57.409274193548413, 206824)\n"
       ]
      },
      {
       "output_type": "stream",
       "stream": "stdout",
       "text": [
        "(98.046875, 77.570564516129025, 72658)\n"
       ]
      },
      {
       "output_type": "stream",
       "stream": "stdout",
       "text": [
        "(47.643649193548413, 81.602822580645238, 202327)\n"
       ]
      },
      {
       "output_type": "stream",
       "stream": "stdout",
       "text": [
        "(72.84526209677415, 101.76411290322585, 46939)\n"
       ]
      },
      {
       "output_type": "stream",
       "stream": "stdout",
       "text": [
        "(208.93397177419354, 41.2802419354839, 87346)\n"
       ]
      },
      {
       "output_type": "stream",
       "stream": "stdout",
       "text": [
        "(98.046875, -27.268145161290249, 209820)\n"
       ]
      },
      {
       "output_type": "stream",
       "stream": "stdout",
       "text": [
        "(-214.453125, -75.655241935483843, 268675)\n"
       ]
      },
      {
       "output_type": "stream",
       "stream": "stdout",
       "text": [
        "(-305.17893145161287, -144.20362903225805, 12611)\n"
       ]
      },
      {
       "output_type": "stream",
       "stream": "stdout",
       "text": [
        "(-274.93699596774189, -140.17137096774189, 266852)\n"
       ]
      },
      {
       "output_type": "stream",
       "stream": "stdout",
       "text": [
        "(-239.65473790322579, -91.784274193548356, 27987)\n"
       ]
      },
      {
       "output_type": "stream",
       "stream": "stdout",
       "text": [
        "(-259.81602822580641, -55.493951612903174, 39897)\n"
       ]
      },
      {
       "output_type": "stream",
       "stream": "stdout",
       "text": [
        "(-249.7353830645161, -19.20362903225805, 113902)\n"
       ]
      },
      {
       "output_type": "stream",
       "stream": "stdout",
       "text": [
        "(-239.65473790322579, 17.086693548387075, 113401)\n"
       ]
      },
      {
       "output_type": "stream",
       "stream": "stdout",
       "text": [
        "(-239.65473790322579, 17.086693548387075, 113401)\n"
       ]
      },
      {
       "output_type": "stream",
       "stream": "stdout",
       "text": [
        "(-239.65473790322579, 65.473790322580726, 54683)\n"
       ]
      },
      {
       "output_type": "stream",
       "stream": "stdout",
       "text": [
        "(-174.13054435483866, -19.20362903225805, 112184)\n"
       ]
      },
      {
       "output_type": "stream",
       "stream": "stdout",
       "text": [
        "(-118.68699596774195, -39.364919354838662, 228146)\n"
       ]
      },
      {
       "output_type": "stream",
       "stream": "stdout",
       "text": [
        "(-73.324092741935488, -47.429435483870975, 66259)\n"
       ]
      },
      {
       "output_type": "stream",
       "stream": "stdout",
       "text": [
        "(-17.880544354838662, -43.397177419354762, 68849)\n"
       ]
      },
      {
       "output_type": "stream",
       "stream": "stdout",
       "text": [
        "(32.522681451612925, -43.397177419354762, 69225)\n"
       ]
      },
      {
       "output_type": "stream",
       "stream": "stdout",
       "text": [
        "(-2.7595766129031745, -39.364919354838662, 89744)\n"
       ]
      },
      {
       "output_type": "stream",
       "stream": "stdout",
       "text": [
        "(-98.525705645161224, -15.17137096774195, 50275)\n"
       ]
      },
      {
       "output_type": "stream",
       "stream": "stdout",
       "text": [
        "(-48.122479838709637, 33.215725806451701, 141310)\n"
       ]
      },
      {
       "output_type": "stream",
       "stream": "stdout",
       "text": [
        "(-88.445060483870975, 37.247983870967801, 94024)\n"
       ]
      },
      {
       "output_type": "stream",
       "stream": "stdout",
       "text": [
        "(-148.92893145161293, 242.89314516129036, 80357)\n"
       ]
      },
      {
       "output_type": "stream",
       "stream": "stdout",
       "text": [
        "(-27.961189516129025, 254.98991935483878, 104511)\n"
       ]
      },
      {
       "output_type": "stream",
       "stream": "stdout",
       "text": [
        "(-38.041834677419388, 319.50604838709683, 142003)\n"
       ]
      },
      {
       "output_type": "stream",
       "stream": "stdout",
       "text": [
        "(138.36945564516134, 49.344758064516213, 202790)\n"
       ]
      },
      {
       "output_type": "stream",
       "stream": "stdout",
       "text": [
        "(168.6113911290322, 198.53830645161293, 47043)\n"
       ]
      },
      {
       "output_type": "stream",
       "stream": "stdout",
       "text": [
        "(188.77268145161293, 230.79637096774195, 9926)\n"
       ]
      },
      {
       "output_type": "stream",
       "stream": "stdout",
       "text": [
        "(138.36945564516134, 250.95766129032256, 9839)\n"
       ]
      },
      {
       "output_type": "stream",
       "stream": "stdout",
       "text": [
        "(173.65171370967744, 238.86088709677426, 9592)\n"
       ]
      },
      {
       "output_type": "stream",
       "stream": "stdout",
       "text": [
        "(198.85332661290317, 226.76411290322585, 9720)\n"
       ]
      },
      {
       "output_type": "stream",
       "stream": "stdout",
       "text": [
        "(219.0146169354839, 206.60282258064524, 9470)\n"
       ]
      },
      {
       "output_type": "stream",
       "stream": "stdout",
       "text": [
        "(350.06300403225816, -305.49395161290317, 255881)\n"
       ]
      },
      {
       "output_type": "stream",
       "stream": "stdout",
       "text": [
        "(425.66784274193549, -249.04233870967738, 257434)\n"
       ]
      },
      {
       "output_type": "stream",
       "stream": "stdout",
       "text": [
        "(460.95010080645159, -281.30040322580641, 246103)\n"
       ]
      },
      {
       "output_type": "stream",
       "stream": "stdout",
       "text": [
        "(581.91784274193549, -293.39717741935482, 247253)\n"
       ]
      },
      {
       "output_type": "stream",
       "stream": "stdout",
       "text": [
        "(551.67590725806451, -228.88104838709671, 250378)\n"
       ]
      },
      {
       "output_type": "stream",
       "stream": "stdout",
       "text": [
        "(123.24848790322585, 410.60987903225805, 4309)\n"
       ]
      },
      {
       "output_type": "stream",
       "stream": "stdout",
       "text": [
        "(113.16784274193549, 430.77116935483878, 5206)\n"
       ]
      },
      {
       "output_type": "stream",
       "stream": "stdout",
       "text": [
        "(87.966229838709637, 430.77116935483878, 4035)\n"
       ]
      },
      {
       "output_type": "stream",
       "stream": "stdout",
       "text": [
        "(-179.1708669354839, 188.83568548387098, 131830)\n"
       ]
      },
      {
       "output_type": "stream",
       "stream": "stdout",
       "text": [
        "(-249.7353830645161, 241.25504032258073, 15210)\n"
       ]
      },
      {
       "output_type": "stream",
       "stream": "stdout",
       "text": [
        "(-219.49344758064512, 253.35181451612902, 80815)\n"
       ]
      },
      {
       "output_type": "stream",
       "stream": "stdout",
       "text": [
        "(-229.57409274193549, 237.22278225806451, 19907)\n"
       ]
      },
      {
       "output_type": "stream",
       "stream": "stdout",
       "text": [
        "(-229.57409274193549, 233.19052419354841, 54336)\n"
       ]
      },
      {
       "output_type": "stream",
       "stream": "stdout",
       "text": [
        "(-320.29989919354836, 233.19052419354841, 15762)\n"
       ]
      },
      {
       "output_type": "stream",
       "stream": "stdout",
       "text": [
        "(-285.01764112903226, 233.19052419354841, 15335)\n"
       ]
      },
      {
       "output_type": "stream",
       "stream": "stdout",
       "text": [
        "(-224.53377016129031, 204.96471774193549, 133867)\n"
       ]
      },
      {
       "output_type": "stream",
       "stream": "stdout",
       "text": [
        "(-224.53377016129031, 160.60987903225805, 117728)\n"
       ]
      },
      {
       "output_type": "stream",
       "stream": "stdout",
       "text": [
        "(-254.77570564516128, 152.54536290322585, 18850)\n"
       ]
      },
      {
       "output_type": "stream",
       "stream": "stdout",
       "text": [
        "(-254.77570564516128, 229.15826612903231, 14823)\n"
       ]
      },
      {
       "output_type": "stream",
       "stream": "stdout",
       "text": [
        "(213.97429435483866, -65.196572580645125, 102110)\n"
       ]
      },
      {
       "output_type": "stream",
       "stream": "stdout",
       "text": [
        "(93.006552419354875, 47.706653225806463, 75486)\n"
       ]
      },
      {
       "output_type": "stream",
       "stream": "stdout",
       "text": [
        "(103.08719758064512, 15.448588709677438, 71749)\n"
       ]
      },
      {
       "output_type": "stream",
       "stream": "stdout",
       "text": [
        "(98.046875, 11.416330645161338, 71481)\n"
       ]
      },
      {
       "output_type": "stream",
       "stream": "stdout",
       "text": [
        "(87.966229838709637, 11.416330645161338, 72270)\n"
       ]
      },
      {
       "output_type": "stream",
       "stream": "stdout",
       "text": [
        "(82.925907258064512, 23.513104838709751, 70456)\n"
       ]
      },
      {
       "output_type": "stream",
       "stream": "stdout",
       "text": [
        "(77.885584677419388, 35.60987903225805, 206126)\n"
       ]
      },
      {
       "output_type": "stream",
       "stream": "stdout",
       "text": [
        "(93.006552419354875, 39.642137096774263, 206392)\n"
       ]
      },
      {
       "output_type": "stream",
       "stream": "stdout",
       "text": [
        "(153.49042338709683, 27.54536290322585, 88321)\n"
       ]
      },
      {
       "output_type": "stream",
       "stream": "stdout",
       "text": [
        "(198.85332661290317, 3.3518145161290249, 102460)\n"
       ]
      },
      {
       "output_type": "stream",
       "stream": "stdout",
       "text": [
        "(188.77268145161293, 43.674395161290363, 88153)\n"
       ]
      },
      {
       "output_type": "stream",
       "stream": "stdout",
       "text": [
        "(208.93397177419354, 3.3518145161290249, 102451)\n"
       ]
      },
      {
       "output_type": "stream",
       "stream": "stdout",
       "text": [
        "(188.77268145161293, 35.60987903225805, 86806)\n"
       ]
      },
      {
       "output_type": "stream",
       "stream": "stdout",
       "text": [
        "(279.49848790322585, -53.099798387096769, 212907)\n"
       ]
      },
      {
       "output_type": "stream",
       "stream": "stdout",
       "text": [
        "(284.53881048387098, -28.90625, 89402)\n"
       ]
      },
      {
       "output_type": "stream",
       "stream": "stdout",
       "text": [
        "(319.82106854838707, -57.132056451612868, 212177)\n"
       ]
      },
      {
       "output_type": "stream",
       "stream": "stdout",
       "text": [
        "(319.82106854838707, -57.132056451612868, 212177)\n"
       ]
      },
      {
       "output_type": "stream",
       "stream": "stdout",
       "text": [
        "(334.94203629032256, -125.68044354838707, 238863)\n"
       ]
      },
      {
       "output_type": "stream",
       "stream": "stdout",
       "text": [
        "(959.94203629032256, -113.58366935483866, 153293)\n"
       ]
      },
      {
       "output_type": "stream",
       "stream": "stdout",
       "text": [
        "(899.45816532258061, -89.390120967741893, 150106)\n"
       ]
      },
      {
       "output_type": "stream",
       "stream": "stdout",
       "text": [
        "(949.86139112903231, -8.7449596774192742, 153432)\n"
       ]
      },
      {
       "output_type": "stream",
       "stream": "stdout",
       "text": [
        "(869.21622983870964, -53.099798387096769, 150332)\n"
       ]
      },
      {
       "output_type": "stream",
       "stream": "stdout",
       "text": [
        "(849.05493951612891, -73.261088709677381, 150154)\n"
       ]
      },
      {
       "output_type": "stream",
       "stream": "stdout",
       "text": [
        "(758.32913306451599, 11.416330645161338, 232433)\n"
       ]
      },
      {
       "output_type": "stream",
       "stream": "stdout",
       "text": [
        "(778.49042338709671, 75.932459677419388, 152897)\n"
       ]
      },
      {
       "output_type": "stream",
       "stream": "stdout",
       "text": [
        "(803.69203629032256, 75.932459677419388, 152857)\n"
       ]
      },
      {
       "output_type": "stream",
       "stream": "stdout",
       "text": [
        "(788.57106854838696, 23.513104838709751, 152491)\n"
       ]
      },
      {
       "output_type": "stream",
       "stream": "stdout",
       "text": [
        "(758.32913306451599, -4.7127016129031745, 152844)\n"
       ]
      },
      {
       "output_type": "stream",
       "stream": "stdout",
       "text": [
        "(692.80493951612891, 23.513104838709751, 232555)\n"
       ]
      },
      {
       "output_type": "stream",
       "stream": "stdout",
       "text": [
        "(647.44203629032256, -4.7127016129031745, 232357)\n"
       ]
      },
      {
       "output_type": "stream",
       "stream": "stdout",
       "text": [
        "(597.03881048387086, 3.3518145161290249, 231399)\n"
       ]
      },
      {
       "output_type": "stream",
       "stream": "stdout",
       "text": [
        "(591.99848790322574, 59.803427419354875, 232509)\n"
       ]
      },
      {
       "output_type": "stream",
       "stream": "stdout",
       "text": [
        "(501.27268145161281, 63.835685483870975, 232363)\n"
       ]
      },
      {
       "output_type": "stream",
       "stream": "stdout",
       "text": [
        "(450.86945564516134, 59.803427419354875, 237100)\n"
       ]
      },
      {
       "output_type": "stream",
       "stream": "stdout",
       "text": [
        "(471.03074596774184, 15.448588709677438, 235137)\n"
       ]
      },
      {
       "output_type": "stream",
       "stream": "stdout",
       "text": [
        "(334.94203629032256, -57.132056451612868, 77966)\n"
       ]
      },
      {
       "output_type": "stream",
       "stream": "stdout",
       "text": [
        "(188.77268145161293, -12.777217741935488, 102441)\n"
       ]
      },
      {
       "output_type": "stream",
       "stream": "stdout",
       "text": [
        "(188.77268145161293, 39.642137096774263, 87298)\n"
       ]
      },
      {
       "output_type": "stream",
       "stream": "stdout",
       "text": [
        "(87.966229838709637, -24.873991935483787, 209739)\n"
       ]
      },
      {
       "output_type": "stream",
       "stream": "stdout",
       "text": [
        "(72.84526209677415, 112.22278225806451, 46257)\n"
       ]
      },
      {
       "output_type": "stream",
       "stream": "stdout",
       "text": [
        "(329.90171370967744, 285.60987903225805, 48899)\n"
       ]
      }
     ],
     "prompt_number": 36
    },
    {
     "cell_type": "code",
     "collapsed": false,
     "input": [
      "import mdtraj as md\n",
      "percent_helix = np.mean(md.compute_dssp(t)[:, 2:18] == 'H', axis=1)"
     ],
     "language": "python",
     "metadata": {},
     "outputs": [],
     "prompt_number": 69
    },
    {
     "cell_type": "code",
     "collapsed": false,
     "input": [
      "pp.hexbin(tics[:, 0][::50], percent_helix[::50], cmap='hot')\n",
      "pp.colorbar()\n",
      "pp.show()"
     ],
     "language": "python",
     "metadata": {},
     "outputs": [
      {
       "metadata": {},
       "output_type": "display_data",
       "png": "[encoded data removed]",
       "text": [
        "<matplotlib.figure.Figure at 0x7fddd8e00490>"
       ]
      }
     ],
     "prompt_number": 81
    },
    {
     "cell_type": "code",
     "collapsed": false,
     "input": [],
     "language": "python",
     "metadata": {},
     "outputs": [],
     "prompt_number": 77
    },
    {
     "cell_type": "code",
     "collapsed": false,
     "input": [],
     "language": "python",
     "metadata": {},
     "outputs": []
    }
   ],
   "metadata": {}
  }
 ]
}